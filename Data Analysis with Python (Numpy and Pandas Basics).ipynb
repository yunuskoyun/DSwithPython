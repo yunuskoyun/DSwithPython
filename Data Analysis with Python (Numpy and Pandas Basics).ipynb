{
 "cells": [
  {
   "cell_type": "markdown",
   "metadata": {
    "id": "fepd5K3rAd-n"
   },
   "source": [
    "___\n",
    "\n",
    "<p style=\"text-align: center;\"><img src=\"https://docs.google.com/uc?id=1lY0Uj5R04yMY3-ZppPWxqCr5pvBLYPnV\" class=\"img-fluid\" \n",
    "alt=\"CLRSWY\"></p>\n",
    "\n",
    "## <p style=\"background-color:#FDFEFE; font-family:newtimeroman; color:#9d4f8c; font-size:100%; text-align:center; border-radius:10px 10px;\">WAY TO REINVENT YOURSELF</p>\n",
    "\n",
    "## <p style=\"background-color:#FDFEFE; font-family:newtimeroman; color:#060108; font-size:200%; text-align:center; border-radius:10px 10px;\">Data Analysis with Python</p>\n",
    "\n",
    "![Image_Assignment](https://i.ibb.co/cY9HhF7/bnote-assignment.gif)\n",
    "\n",
    "## <p style=\"background-color:#FDFEFE; font-family:newtimeroman; color:#4d77cf; font-size:200%; text-align:center; border-radius:10px 10px;\">Assignment 01 (NumPy & Pandas Basics)</p>"
   ]
  },
  {
   "cell_type": "markdown",
   "metadata": {
    "id": "k-gUAFoDb8yK"
   },
   "source": [
    "<a id=\"toc\"></a>\n",
    "\n",
    "## <p style=\"background-color:#9d4f8c; font-family:newtimeroman; color:#FFF9ED; font-size:175%; text-align:center; border-radius:10px 10px;\">Content</p>\n",
    "\n",
    "* [NUMPY SECTION](#0)\n",
    "* [PANDAS SECTION](#1)\n"
   ]
  },
  {
   "cell_type": "markdown",
   "metadata": {
    "id": "lFoJR2iTAd-v"
   },
   "source": [
    "**In this assignment you will start off with Numpy Exercises and then complete the whole Exercise with Pandas questions. All the subjects related to questions here already covered in preclass materials and in-class sessions. So good luck!**"
   ]
  },
  {
   "cell_type": "markdown",
   "metadata": {
    "id": "1wm-z00Cb8yM"
   },
   "source": [
    "## <p style=\"background-color:#9d4f8c; font-family:newtimeroman; color:#FFF9ED; font-size:175%; text-align:center; border-radius:10px 10px;\">Numpy Section</p>\n",
    "\n",
    "<a id=\"0\"></a>\n",
    "<a href=\"#toc\" class=\"btn btn-primary btn-sm\" role=\"button\" aria-pressed=\"true\" \n",
    "style=\"color:blue; background-color:#dfa8e4\" data-toggle=\"popover\">Content</a>"
   ]
  },
  {
   "cell_type": "markdown",
   "metadata": {
    "id": "9LrbgcwYAd-w"
   },
   "source": [
    "### 1. Import NumPy Library."
   ]
  },
  {
   "cell_type": "code",
   "execution_count": 1,
   "metadata": {
    "id": "MymrsT_dAd-x"
   },
   "outputs": [],
   "source": [
    "import numpy as np\n",
    "\n"
   ]
  },
  {
   "cell_type": "markdown",
   "metadata": {
    "id": "It1vT4JYAd-y"
   },
   "source": [
    "### 2. Create an array from my_list = [5, 10, 15, 20, 25]"
   ]
  },
  {
   "cell_type": "code",
   "execution_count": null,
   "metadata": {
    "colab": {
     "base_uri": "https://localhost:8080/"
    },
    "executionInfo": {
     "elapsed": 17,
     "status": "ok",
     "timestamp": 1659592836707,
     "user": {
      "displayName": "Yunus Koyun",
      "userId": "00144374272071843442"
     },
     "user_tz": -180
    },
    "id": "2X7r8YoPb8yQ",
    "outputId": "6c18eea2-acdd-4135-e9ce-05b88128807d"
   },
   "outputs": [
    {
     "data": {
      "text/plain": [
       "array([ 5, 10, 15, 20, 25])"
      ]
     },
     "execution_count": 3,
     "metadata": {},
     "output_type": "execute_result"
    }
   ],
   "source": [
    "# YOUR CODE IS HERE\n",
    "my_list = [5, 10, 15, 20, 25]\n",
    "np.array(my_list)\n"
   ]
  },
  {
   "cell_type": "raw",
   "metadata": {
    "id": "dPndrpKOAd-z",
    "outputId": "fa4080ee-8528-454e-d834-2d13d49bbec2"
   },
   "source": [
    "Desired Output:\n",
    "\n",
    "array([ 5, 10, 15, 20, 25])"
   ]
  },
  {
   "cell_type": "markdown",
   "metadata": {
    "id": "1hVeq_fEAd-1"
   },
   "source": [
    "### 3. Generate an array of 5x5 with zeros. "
   ]
  },
  {
   "cell_type": "code",
   "execution_count": null,
   "metadata": {
    "colab": {
     "base_uri": "https://localhost:8080/"
    },
    "executionInfo": {
     "elapsed": 14,
     "status": "ok",
     "timestamp": 1659592934178,
     "user": {
      "displayName": "Yunus Koyun",
      "userId": "00144374272071843442"
     },
     "user_tz": -180
    },
    "id": "Y0R-L8hBAd-2",
    "outputId": "dd9bf5d2-26be-4667-e6ae-ff9ba4508475"
   },
   "outputs": [
    {
     "data": {
      "text/plain": [
       "array([[0., 0., 0., 0., 0.],\n",
       "       [0., 0., 0., 0., 0.],\n",
       "       [0., 0., 0., 0., 0.],\n",
       "       [0., 0., 0., 0., 0.],\n",
       "       [0., 0., 0., 0., 0.]])"
      ]
     },
     "execution_count": 8,
     "metadata": {},
     "output_type": "execute_result"
    }
   ],
   "source": [
    "# YOUR CODE IS HERE\n",
    "np.zeros((5,5))"
   ]
  },
  {
   "cell_type": "raw",
   "metadata": {
    "id": "NFcnhYLzb8yT"
   },
   "source": [
    "Desired Output:\n",
    "\n",
    "array([[0., 0., 0., 0., 0.],\n",
    "       [0., 0., 0., 0., 0.],\n",
    "       [0., 0., 0., 0., 0.],\n",
    "       [0., 0., 0., 0., 0.],\n",
    "       [0., 0., 0., 0., 0.]])"
   ]
  },
  {
   "cell_type": "markdown",
   "metadata": {
    "id": "lHhdpBa6Ad-3"
   },
   "source": [
    "### 4. Generate an array of 4x4 with ones and assign data type as int."
   ]
  },
  {
   "cell_type": "code",
   "execution_count": null,
   "metadata": {
    "colab": {
     "base_uri": "https://localhost:8080/"
    },
    "executionInfo": {
     "elapsed": 8,
     "status": "ok",
     "timestamp": 1659593130623,
     "user": {
      "displayName": "Yunus Koyun",
      "userId": "00144374272071843442"
     },
     "user_tz": -180
    },
    "id": "s45bqkmOAd-3",
    "outputId": "5b51a853-347e-4836-9910-d9ee38a7656f"
   },
   "outputs": [
    {
     "name": "stdout",
     "output_type": "stream",
     "text": [
      "[[1 1 1 1]\n",
      " [1 1 1 1]\n",
      " [1 1 1 1]\n",
      " [1 1 1 1]]\n"
     ]
    }
   ],
   "source": [
    "# YOUR CODE IS HERE\n",
    "np_ones = np.ones((4,4), dtype=\"int\")\n",
    "print(np_ones)"
   ]
  },
  {
   "cell_type": "raw",
   "metadata": {
    "id": "MC3tnkLJb8yU"
   },
   "source": [
    "Desired Output:\n",
    "\n",
    "array([[1, 1, 1, 1],\n",
    "       [1, 1, 1, 1],\n",
    "       [1, 1, 1, 1],\n",
    "       [1, 1, 1, 1]])"
   ]
  },
  {
   "cell_type": "markdown",
   "metadata": {
    "id": "1gD94nCeAd-5"
   },
   "source": [
    "### 5. Make all the values of the array above with the value of 7."
   ]
  },
  {
   "cell_type": "code",
   "execution_count": null,
   "metadata": {
    "colab": {
     "base_uri": "https://localhost:8080/"
    },
    "executionInfo": {
     "elapsed": 11,
     "status": "ok",
     "timestamp": 1659593140505,
     "user": {
      "displayName": "Yunus Koyun",
      "userId": "00144374272071843442"
     },
     "user_tz": -180
    },
    "id": "L8fjsn5JAd-6",
    "outputId": "27aa22e4-f161-4947-9081-7a83c4407555"
   },
   "outputs": [
    {
     "data": {
      "text/plain": [
       "array([[7, 7, 7, 7],\n",
       "       [7, 7, 7, 7],\n",
       "       [7, 7, 7, 7],\n",
       "       [7, 7, 7, 7]])"
      ]
     },
     "execution_count": 12,
     "metadata": {},
     "output_type": "execute_result"
    }
   ],
   "source": [
    "# YOUR CODE IS HERE\n",
    "np_ones * 7\n"
   ]
  },
  {
   "cell_type": "raw",
   "metadata": {
    "id": "Yjmatn_ab8yV"
   },
   "source": [
    "Desired Output:\n",
    "\n",
    "array([[7, 7, 7, 7],\n",
    "       [7, 7, 7, 7],\n",
    "       [7, 7, 7, 7],\n",
    "       [7, 7, 7, 7]])"
   ]
  },
  {
   "cell_type": "markdown",
   "metadata": {
    "id": "XeOPD2dBAd-7"
   },
   "source": [
    "### 6. Create the previous array above by full() method."
   ]
  },
  {
   "cell_type": "code",
   "execution_count": null,
   "metadata": {
    "colab": {
     "base_uri": "https://localhost:8080/"
    },
    "executionInfo": {
     "elapsed": 8,
     "status": "ok",
     "timestamp": 1659593163082,
     "user": {
      "displayName": "Yunus Koyun",
      "userId": "00144374272071843442"
     },
     "user_tz": -180
    },
    "id": "xqoPe_PJAd-7",
    "outputId": "c1c28342-f3ff-493d-b50a-f0bd11fbf068"
   },
   "outputs": [
    {
     "data": {
      "text/plain": [
       "array([[7, 7, 7, 7],\n",
       "       [7, 7, 7, 7],\n",
       "       [7, 7, 7, 7],\n",
       "       [7, 7, 7, 7]])"
      ]
     },
     "execution_count": 13,
     "metadata": {},
     "output_type": "execute_result"
    }
   ],
   "source": [
    "# YOUR CODE IS HERE\n",
    "np.full((4,4), 7)\n"
   ]
  },
  {
   "cell_type": "raw",
   "metadata": {
    "id": "F3QI83z1b8yW"
   },
   "source": [
    "Desired Output:\n",
    "\n",
    "array([[7, 7, 7, 7],\n",
    "       [7, 7, 7, 7],\n",
    "       [7, 7, 7, 7],\n",
    "       [7, 7, 7, 7]])"
   ]
  },
  {
   "cell_type": "markdown",
   "metadata": {
    "id": "G8_xFCyQAd-8"
   },
   "source": [
    "### 7. Create an array of even integers from 2 to 16 (inclusive). "
   ]
  },
  {
   "cell_type": "code",
   "execution_count": null,
   "metadata": {
    "colab": {
     "base_uri": "https://localhost:8080/"
    },
    "executionInfo": {
     "elapsed": 341,
     "status": "ok",
     "timestamp": 1659601298378,
     "user": {
      "displayName": "Yunus Koyun",
      "userId": "00144374272071843442"
     },
     "user_tz": -180
    },
    "id": "Nu6VInWWAd-8",
    "outputId": "5be99ea4-4416-4c38-87c8-b97aa3dd6be0"
   },
   "outputs": [
    {
     "data": {
      "text/plain": [
       "array([ 2,  4,  6,  8, 10, 12, 14])"
      ]
     },
     "execution_count": 37,
     "metadata": {},
     "output_type": "execute_result"
    }
   ],
   "source": [
    "# YOUR CODE IS HERE\n",
    "np.arange(2,16,2, dtype=\"int\")\n"
   ]
  },
  {
   "cell_type": "raw",
   "metadata": {
    "id": "LxuO7hxub8yX"
   },
   "source": [
    "Desired Output:\n",
    "\n",
    "array([ 2,  4,  6,  8, 10, 12, 14, 16])"
   ]
  },
  {
   "cell_type": "markdown",
   "metadata": {
    "id": "-SZvgEVVAd-9"
   },
   "source": [
    "### 8. Create a 5x5 matrix with the values between 0 to 25 (exclusive)."
   ]
  },
  {
   "cell_type": "code",
   "execution_count": null,
   "metadata": {
    "colab": {
     "base_uri": "https://localhost:8080/"
    },
    "executionInfo": {
     "elapsed": 296,
     "status": "ok",
     "timestamp": 1659593579862,
     "user": {
      "displayName": "Yunus Koyun",
      "userId": "00144374272071843442"
     },
     "user_tz": -180
    },
    "id": "ddkmPCghAd--",
    "outputId": "62a3ebb0-8105-40e4-b2c4-9e9b3c4b04bf"
   },
   "outputs": [
    {
     "data": {
      "text/plain": [
       "array([[ 0,  1,  2,  3,  4],\n",
       "       [ 5,  6,  7,  8,  9],\n",
       "       [10, 11, 12, 13, 14],\n",
       "       [15, 16, 17, 18, 19],\n",
       "       [20, 21, 22, 23, 24]])"
      ]
     },
     "execution_count": 18,
     "metadata": {},
     "output_type": "execute_result"
    }
   ],
   "source": [
    "# YOUR CODE IS HERE\n",
    "np.arange(25).reshape(5,5)\n"
   ]
  },
  {
   "cell_type": "raw",
   "metadata": {
    "id": "N40GvEBYb8yY"
   },
   "source": [
    "Desired Output:\n",
    "\n",
    "array([[ 0,  1,  2,  3,  4],\n",
    "       [ 5,  6,  7,  8,  9],\n",
    "       [10, 11, 12, 13, 14],\n",
    "       [15, 16, 17, 18, 19],\n",
    "       [20, 21, 22, 23, 24]])"
   ]
  },
  {
   "cell_type": "markdown",
   "metadata": {
    "id": "-QuMw6v5Ad-_"
   },
   "source": [
    "### 9. Create a 5x5 matrix with the values between 0 to 25 (exclusive) using linspace method."
   ]
  },
  {
   "cell_type": "code",
   "execution_count": null,
   "metadata": {
    "colab": {
     "base_uri": "https://localhost:8080/"
    },
    "executionInfo": {
     "elapsed": 5,
     "status": "ok",
     "timestamp": 1659593766532,
     "user": {
      "displayName": "Yunus Koyun",
      "userId": "00144374272071843442"
     },
     "user_tz": -180
    },
    "id": "4A195I5iAd_A",
    "outputId": "fb4bbb2d-e25c-4f85-db07-a9ed78969b6c"
   },
   "outputs": [
    {
     "data": {
      "text/plain": [
       "array([[ 0.,  1.,  2.,  3.,  4.],\n",
       "       [ 5.,  6.,  7.,  8.,  9.],\n",
       "       [10., 11., 12., 13., 14.],\n",
       "       [15., 16., 17., 18., 19.],\n",
       "       [20., 21., 22., 23., 24.]])"
      ]
     },
     "execution_count": 21,
     "metadata": {},
     "output_type": "execute_result"
    }
   ],
   "source": [
    "# YOUR CODE IS HERE\n",
    "np.linspace(0,25, num=25, endpoint=False).reshape(5,5)"
   ]
  },
  {
   "cell_type": "raw",
   "metadata": {
    "id": "CTEMDJEfb8yZ"
   },
   "source": [
    "Desired Output:\n",
    "\n",
    "array([[ 0,  1,  2,  3,  4],\n",
    "       [ 5,  6,  7,  8,  9],\n",
    "       [10, 11, 12, 13, 14],\n",
    "       [15, 16, 17, 18, 19],\n",
    "       [20, 21, 22, 23, 24]])"
   ]
  },
  {
   "cell_type": "markdown",
   "metadata": {
    "id": "xL-eRUXEAd_B"
   },
   "source": [
    "### 10. Create randomly 5 numbers with numpy."
   ]
  },
  {
   "cell_type": "code",
   "execution_count": null,
   "metadata": {
    "colab": {
     "base_uri": "https://localhost:8080/"
    },
    "executionInfo": {
     "elapsed": 18,
     "status": "ok",
     "timestamp": 1659593931685,
     "user": {
      "displayName": "Yunus Koyun",
      "userId": "00144374272071843442"
     },
     "user_tz": -180
    },
    "id": "0xda3LnLAd_B",
    "outputId": "b98c287a-2a82-4772-ef52-2b44384c63b1"
   },
   "outputs": [
    {
     "data": {
      "text/plain": [
       "array([-1.42773731, -0.65752982,  0.68103248, -1.64236918, -0.62154098])"
      ]
     },
     "execution_count": 25,
     "metadata": {},
     "output_type": "execute_result"
    }
   ],
   "source": [
    "# YOUR CODE IS HERE\n",
    "np.random.randn(5)\n"
   ]
  },
  {
   "cell_type": "raw",
   "metadata": {
    "id": "qcZAXd0eb8ya"
   },
   "source": [
    "Desired Output (WATCH OUT! Your output will probably NOT be the same as the one below due to randomization):\n",
    "\n",
    "array([0.69664494, 0.66387647, 0.97508534, 0.33818591, 0.58766187])"
   ]
  },
  {
   "cell_type": "markdown",
   "metadata": {
    "id": "JXiZjg06Ad_C"
   },
   "source": [
    "### 11. Create an array of 5*5 shape and fills it with random values as per the standard normal distribution."
   ]
  },
  {
   "cell_type": "code",
   "execution_count": null,
   "metadata": {
    "colab": {
     "base_uri": "https://localhost:8080/"
    },
    "executionInfo": {
     "elapsed": 6,
     "status": "ok",
     "timestamp": 1659594250687,
     "user": {
      "displayName": "Yunus Koyun",
      "userId": "00144374272071843442"
     },
     "user_tz": -180
    },
    "id": "KeJDVElTAd_C",
    "outputId": "1defa572-f176-43a8-853f-6f3b3921e064"
   },
   "outputs": [
    {
     "data": {
      "text/plain": [
       "array([[ -4.4341334 ,  -0.3341999 , -50.70140981,  34.79511362,\n",
       "          4.73209282],\n",
       "       [  0.93996476,  -8.88617518, -15.21944796, -32.14096281,\n",
       "        -17.11526721],\n",
       "       [ 19.63798266,  -9.48843058,  12.49240633,  14.1743763 ,\n",
       "         39.61680894],\n",
       "       [ 53.03388373,  30.29141048, -21.25785445,  34.69967186,\n",
       "        -27.41198572],\n",
       "       [ 48.72526717, -16.54742978,   6.91118535, -20.26261929,\n",
       "        -35.66917533]])"
      ]
     },
     "execution_count": 31,
     "metadata": {},
     "output_type": "execute_result"
    }
   ],
   "source": [
    "# YOUR CODE IS HERE\n",
    "np.random.normal(0, 25, size=(5,5))\n"
   ]
  },
  {
   "cell_type": "raw",
   "metadata": {
    "id": "XoALOKYQb8ya"
   },
   "source": [
    "Desired Output (WATCH OUT! Your output will probably NOT be the same as the one below due to randomization):\n",
    "\n",
    "array([[ 0.73087006, -0.34675846, -1.03601606, -0.61227298, -0.57078798],\n",
    "       [ 1.85976917, -0.37158111, -1.16789003, -0.81271697,  1.39620977],\n",
    "       [ 0.52695367, -0.19017673,  0.78067235, -1.3520313 ,  0.44878344],\n",
    "       [ 0.27758877,  0.75391726, -0.52652875,  0.74519765, -0.40414682],\n",
    "       [ 0.12743864, -0.81637521,  0.14086653, -0.29524574,  0.12703938]])"
   ]
  },
  {
   "cell_type": "markdown",
   "metadata": {
    "id": "iHRAL69DAd_D"
   },
   "source": [
    "### 12. Create a 3*4 array of random int numbers between 20 and 50."
   ]
  },
  {
   "cell_type": "code",
   "execution_count": null,
   "metadata": {
    "colab": {
     "base_uri": "https://localhost:8080/"
    },
    "executionInfo": {
     "elapsed": 5,
     "status": "ok",
     "timestamp": 1659594300142,
     "user": {
      "displayName": "Yunus Koyun",
      "userId": "00144374272071843442"
     },
     "user_tz": -180
    },
    "id": "19owhlhjAd_D",
    "outputId": "e5a17ba3-444a-4ae5-a28d-7e4b3f4f712b"
   },
   "outputs": [
    {
     "data": {
      "text/plain": [
       "array([[42, 23, 21, 31],\n",
       "       [23, 48, 36, 46],\n",
       "       [31, 35, 44, 23]])"
      ]
     },
     "execution_count": 33,
     "metadata": {},
     "output_type": "execute_result"
    }
   ],
   "source": [
    "# YOUR CODE IS HERE\n",
    "np.random.randint(20,50, size=(3,4))\n"
   ]
  },
  {
   "cell_type": "raw",
   "metadata": {
    "id": "-OpY2Cnlb8yb"
   },
   "source": [
    "Desired Output (WATCH OUT! Your output will probably NOT be the same as the one below due to randomization):\n",
    "\n",
    "array([[33, 39, 47, 26],\n",
    "       [41, 20, 32, 23],\n",
    "       [25, 22, 41, 28]])"
   ]
  },
  {
   "cell_type": "markdown",
   "metadata": {
    "id": "XpsHE5BsAd_E"
   },
   "source": [
    "### 13. Create an array named \"ranarr\"consisting of randomly 48 numbers and reshape this array with the shape of 6x8 in different ways."
   ]
  },
  {
   "cell_type": "code",
   "execution_count": null,
   "metadata": {
    "colab": {
     "base_uri": "https://localhost:8080/"
    },
    "executionInfo": {
     "elapsed": 593,
     "status": "ok",
     "timestamp": 1659601832009,
     "user": {
      "displayName": "Yunus Koyun",
      "userId": "00144374272071843442"
     },
     "user_tz": -180
    },
    "id": "8DWl1ExmAd_E",
    "outputId": "9cfafd14-a027-4701-dbd1-556cf68ceb21"
   },
   "outputs": [
    {
     "data": {
      "text/plain": [
       "array([10, 20, 30, 48,  6, 49, 18, 21, 34, 31, 38,  8, 43, 17, 48, 14,  2,\n",
       "       32,  5,  1, 13,  5, 24, 13, 42, 46, 49,  4,  2, 25, 37, 28, 23,  6,\n",
       "       20, 40, 12, 36, 49, 37, 30, 17, 18, 20, 42, 33, 13, 25])"
      ]
     },
     "execution_count": 45,
     "metadata": {},
     "output_type": "execute_result"
    }
   ],
   "source": [
    "# YOUR CODE IS HERE\n",
    "ranarr = np.random.randint((50), size=48)\n",
    "ranarr\n"
   ]
  },
  {
   "cell_type": "raw",
   "metadata": {
    "id": "oVbpb6mvb8yb"
   },
   "source": [
    "Desired Output (WATCH OUT! Your output may NOT be the same as the one):\n",
    "\n",
    "array([ 6, 21, 18, 53, 38, 37, 30, 47, 19, 44, 29, 12, 14, 37, 24, 14, 16,\n",
    "       18,  3, 19, 19, 41, 28, 41,  3, 47,  4, 18, 27, 44, 15, 21,  5, 55,\n",
    "       38,  9,  5, 50, 15, 20,  7, 26, 45, 39, 37, 23,  6, 10])"
   ]
  },
  {
   "cell_type": "code",
   "execution_count": null,
   "metadata": {
    "colab": {
     "base_uri": "https://localhost:8080/"
    },
    "executionInfo": {
     "elapsed": 442,
     "status": "ok",
     "timestamp": 1659601849003,
     "user": {
      "displayName": "Yunus Koyun",
      "userId": "00144374272071843442"
     },
     "user_tz": -180
    },
    "id": "3YxAvl1zAd_E",
    "outputId": "d593c567-f7db-47ed-e9ce-3bccd2026619"
   },
   "outputs": [
    {
     "data": {
      "text/plain": [
       "array([[10, 20, 30, 48,  6, 49, 18, 21],\n",
       "       [34, 31, 38,  8, 43, 17, 48, 14],\n",
       "       [ 2, 32,  5,  1, 13,  5, 24, 13],\n",
       "       [42, 46, 49,  4,  2, 25, 37, 28],\n",
       "       [23,  6, 20, 40, 12, 36, 49, 37],\n",
       "       [30, 17, 18, 20, 42, 33, 13, 25]])"
      ]
     },
     "execution_count": 46,
     "metadata": {},
     "output_type": "execute_result"
    }
   ],
   "source": [
    "# YOUR CODE IS HERE (RESHAPING WITH NUM)\n",
    "ranarr.reshape(6,8)\n"
   ]
  },
  {
   "cell_type": "raw",
   "metadata": {
    "id": "DiBIXNgYb8yc"
   },
   "source": [
    "Desired Output (WATCH OUT! Your output may NOT be the same as the one):\n",
    "\n",
    "array([[ 6, 21, 18, 53, 38, 37, 30, 47],\n",
    "       [19, 44, 29, 12, 14, 37, 24, 14],\n",
    "       [16, 18,  3, 19, 19, 41, 28, 41],\n",
    "       [ 3, 47,  4, 18, 27, 44, 15, 21],\n",
    "       [ 5, 55, 38,  9,  5, 50, 15, 20],\n",
    "       [ 7, 26, 45, 39, 37, 23,  6, 10]])"
   ]
  },
  {
   "cell_type": "code",
   "execution_count": null,
   "metadata": {
    "colab": {
     "base_uri": "https://localhost:8080/"
    },
    "executionInfo": {
     "elapsed": 786,
     "status": "ok",
     "timestamp": 1659602036902,
     "user": {
      "displayName": "Yunus Koyun",
      "userId": "00144374272071843442"
     },
     "user_tz": -180
    },
    "id": "5PJczaI-Ad_F",
    "outputId": "6b6719bb-d4d0-4a97-d59b-9c9b719e8c89"
   },
   "outputs": [
    {
     "data": {
      "text/plain": [
       "array([[10, 20, 30, 48,  6, 49, 18, 21],\n",
       "       [34, 31, 38,  8, 43, 17, 48, 14],\n",
       "       [ 2, 32,  5,  1, 13,  5, 24, 13],\n",
       "       [42, 46, 49,  4,  2, 25, 37, 28],\n",
       "       [23,  6, 20, 40, 12, 36, 49, 37],\n",
       "       [30, 17, 18, 20, 42, 33, 13, 25]])"
      ]
     },
     "execution_count": 50,
     "metadata": {},
     "output_type": "execute_result"
    }
   ],
   "source": [
    "# YOUR CODE IS HERE (RESHAPING WITH -1)\n",
    "ranarr.resize((6,8))\n",
    "ranarr"
   ]
  },
  {
   "cell_type": "raw",
   "metadata": {
    "id": "KWAhYZCNb8yc"
   },
   "source": [
    "Desired Output (WATCH OUT! Your output may NOT be the same as the one):\n",
    "\n",
    "array([[ 6, 21, 18, 53, 38, 37, 30, 47],\n",
    "       [19, 44, 29, 12, 14, 37, 24, 14],\n",
    "       [16, 18,  3, 19, 19, 41, 28, 41],\n",
    "       [ 3, 47,  4, 18, 27, 44, 15, 21],\n",
    "       [ 5, 55, 38,  9,  5, 50, 15, 20],\n",
    "       [ 7, 26, 45, 39, 37, 23,  6, 10]])"
   ]
  },
  {
   "cell_type": "code",
   "execution_count": null,
   "metadata": {
    "id": "JZJxmVwsb8yd"
   },
   "outputs": [],
   "source": [
    "# YOUR CODE IS HERE (RESHAPING WITH -1)\n",
    "\n"
   ]
  },
  {
   "cell_type": "raw",
   "metadata": {
    "id": "ZSqGuvBOb8yd"
   },
   "source": [
    "Desired Output (WATCH OUT! Your output may NOT be the same as the one):\n",
    "\n",
    "array([[ 6, 21, 18, 53, 38, 37, 30, 47],\n",
    "       [19, 44, 29, 12, 14, 37, 24, 14],\n",
    "       [16, 18,  3, 19, 19, 41, 28, 41],\n",
    "       [ 3, 47,  4, 18, 27, 44, 15, 21],\n",
    "       [ 5, 55, 38,  9,  5, 50, 15, 20],\n",
    "       [ 7, 26, 45, 39, 37, 23,  6, 10]])"
   ]
  },
  {
   "cell_type": "markdown",
   "metadata": {
    "id": "jB4suWaXAd_F"
   },
   "source": [
    "## Numpy Indexing and Selection"
   ]
  },
  {
   "cell_type": "markdown",
   "metadata": {
    "id": "e_KBOg_Tb8yd"
   },
   "source": [
    "### Create an array named \"mat\" in accordence with the desired output below."
   ]
  },
  {
   "cell_type": "code",
   "execution_count": null,
   "metadata": {
    "colab": {
     "base_uri": "https://localhost:8080/"
    },
    "executionInfo": {
     "elapsed": 356,
     "status": "ok",
     "timestamp": 1659602212138,
     "user": {
      "displayName": "Yunus Koyun",
      "userId": "00144374272071843442"
     },
     "user_tz": -180
    },
    "id": "x2zNGxNkAd_F",
    "outputId": "28d691ed-5d06-4bb9-ce7c-d8a5fb66f5d9"
   },
   "outputs": [
    {
     "data": {
      "text/plain": [
       "array([[ 1,  2,  3,  4],\n",
       "       [ 5,  6,  7,  8],\n",
       "       [ 9, 10, 11, 12],\n",
       "       [13, 14, 15, 16]])"
      ]
     },
     "execution_count": 56,
     "metadata": {},
     "output_type": "execute_result"
    }
   ],
   "source": [
    "# YOUR CODE IS HERE \n",
    "mat = np.arange(1,17).reshape(4,4)\n",
    "mat"
   ]
  },
  {
   "cell_type": "raw",
   "metadata": {
    "id": "S5MVYG39b8yd"
   },
   "source": [
    "Desired Output:\n",
    "\n",
    "array([[ 1,  2,  3,  4],\n",
    "       [ 5,  6,  7,  8],\n",
    "       [ 9, 10, 11, 12],\n",
    "       [13, 14, 15, 16]])"
   ]
  },
  {
   "cell_type": "markdown",
   "metadata": {
    "id": "wyNXBC0GAd_G"
   },
   "source": [
    "### 14. Using the array above, write a code that reproduces the desired output shown below.<br>"
   ]
  },
  {
   "cell_type": "code",
   "execution_count": null,
   "metadata": {
    "colab": {
     "base_uri": "https://localhost:8080/"
    },
    "executionInfo": {
     "elapsed": 454,
     "status": "ok",
     "timestamp": 1659602254508,
     "user": {
      "displayName": "Yunus Koyun",
      "userId": "00144374272071843442"
     },
     "user_tz": -180
    },
    "id": "k6FmQqjxAd_G",
    "outputId": "aee2076b-9365-46db-cfcc-3796eec9962c"
   },
   "outputs": [
    {
     "data": {
      "text/plain": [
       "array([[ 6,  7],\n",
       "       [10, 11]])"
      ]
     },
     "execution_count": 57,
     "metadata": {},
     "output_type": "execute_result"
    }
   ],
   "source": [
    "# YOUR CODE IS HERE \n",
    "mat[1:3,1:3]"
   ]
  },
  {
   "cell_type": "raw",
   "metadata": {
    "id": "AOYzJWS1b8ye"
   },
   "source": [
    "Desired Output:\n",
    "\n",
    "array([[ 6,  7],\n",
    "       [10, 11]])"
   ]
  },
  {
   "cell_type": "markdown",
   "metadata": {
    "id": "bUShSGkJAd_G"
   },
   "source": [
    "### 15. Get the 1st column (index number 0) of the array above."
   ]
  },
  {
   "cell_type": "code",
   "execution_count": null,
   "metadata": {
    "colab": {
     "base_uri": "https://localhost:8080/"
    },
    "executionInfo": {
     "elapsed": 351,
     "status": "ok",
     "timestamp": 1659602300888,
     "user": {
      "displayName": "Yunus Koyun",
      "userId": "00144374272071843442"
     },
     "user_tz": -180
    },
    "id": "Wv7YR2drAd_G",
    "outputId": "b137375e-8459-4973-c16a-53534072b370"
   },
   "outputs": [
    {
     "data": {
      "text/plain": [
       "array([ 1,  5,  9, 13])"
      ]
     },
     "execution_count": 59,
     "metadata": {},
     "output_type": "execute_result"
    }
   ],
   "source": [
    "# YOUR CODE IS HERE \n",
    "mat[:,0]"
   ]
  },
  {
   "cell_type": "raw",
   "metadata": {
    "id": "Wwabz7PAb8ye"
   },
   "source": [
    "Desired Output:\n",
    "\n",
    "array([ 1,  5,  9, 13])"
   ]
  },
  {
   "cell_type": "markdown",
   "metadata": {
    "id": "GGdWljRJAd_H"
   },
   "source": [
    "### 16. Get the values in 2nd row (index number 1) for every 2 step."
   ]
  },
  {
   "cell_type": "code",
   "execution_count": null,
   "metadata": {
    "colab": {
     "base_uri": "https://localhost:8080/"
    },
    "executionInfo": {
     "elapsed": 361,
     "status": "ok",
     "timestamp": 1659602362186,
     "user": {
      "displayName": "Yunus Koyun",
      "userId": "00144374272071843442"
     },
     "user_tz": -180
    },
    "id": "7e6tP0NlAd_H",
    "outputId": "872d4867-0d32-4f84-a921-d1b8603f1bb8"
   },
   "outputs": [
    {
     "data": {
      "text/plain": [
       "array([5, 7])"
      ]
     },
     "execution_count": 61,
     "metadata": {},
     "output_type": "execute_result"
    }
   ],
   "source": [
    "# YOUR CODE IS HERE \n",
    "mat[1,0::2]"
   ]
  },
  {
   "cell_type": "raw",
   "metadata": {
    "id": "5VJq6RYyb8yf"
   },
   "source": [
    "Desired Output:\n",
    "\n",
    "array([5, 7])"
   ]
  },
  {
   "cell_type": "markdown",
   "metadata": {
    "id": "aANYlDooAd_H"
   },
   "source": [
    "### 17.Assign 77 to every cell in 3rd column."
   ]
  },
  {
   "cell_type": "code",
   "execution_count": null,
   "metadata": {
    "colab": {
     "base_uri": "https://localhost:8080/"
    },
    "executionInfo": {
     "elapsed": 682,
     "status": "ok",
     "timestamp": 1659609556164,
     "user": {
      "displayName": "Yunus Koyun",
      "userId": "00144374272071843442"
     },
     "user_tz": -180
    },
    "id": "oy5AxrK1Ad_I",
    "outputId": "4a953009-09b7-49be-f861-bf03edbde24d"
   },
   "outputs": [
    {
     "data": {
      "text/plain": [
       "array([[ 1,  2, 77,  4],\n",
       "       [ 5,  6, 77,  8],\n",
       "       [ 9, 10, 77, 12],\n",
       "       [13, 14, 77, 16]])"
      ]
     },
     "execution_count": 91,
     "metadata": {},
     "output_type": "execute_result"
    }
   ],
   "source": [
    "# YOUR CODE IS HERE \n",
    "mat[:,2] = 77\n",
    "mat"
   ]
  },
  {
   "cell_type": "raw",
   "metadata": {
    "id": "hV8_Jn0Wb8yg"
   },
   "source": [
    "Desired Output:\n",
    "\n",
    "array([[ 1,  2, 77,  4],\n",
    "       [ 5,  6, 77,  8],\n",
    "       [ 9, 10, 77, 12],\n",
    "       [13, 14, 77, 16]])"
   ]
  },
  {
   "cell_type": "markdown",
   "metadata": {
    "id": "OsrIo34xAd_I"
   },
   "source": [
    "### 18. (a) Take 2nd row (index number 1) and 1st column (index number 0) , (b) 4th row (index number 3) and 3rd column (index number 2) ."
   ]
  },
  {
   "cell_type": "code",
   "execution_count": null,
   "metadata": {
    "colab": {
     "base_uri": "https://localhost:8080/"
    },
    "executionInfo": {
     "elapsed": 372,
     "status": "ok",
     "timestamp": 1659602537081,
     "user": {
      "displayName": "Yunus Koyun",
      "userId": "00144374272071843442"
     },
     "user_tz": -180
    },
    "id": "fESSmtPDAd_I",
    "outputId": "bde2f039-7281-493f-e295-ab2ba32d8651"
   },
   "outputs": [
    {
     "data": {
      "text/plain": [
       "array([ 5, 77])"
      ]
     },
     "execution_count": 66,
     "metadata": {},
     "output_type": "execute_result"
    }
   ],
   "source": [
    "# YOUR CODE IS HERE \n",
    "mat[[1,3],[0,2]]"
   ]
  },
  {
   "cell_type": "raw",
   "metadata": {
    "id": "arlBftIGb8yg"
   },
   "source": [
    "Desired Output:\n",
    "\n",
    "array([ 5, 77])"
   ]
  },
  {
   "cell_type": "markdown",
   "metadata": {
    "id": "dsZDs5vjAd_J"
   },
   "source": [
    "### 19. Take between 2nd and last row with step 2 and between 1st and last column with step 2."
   ]
  },
  {
   "cell_type": "code",
   "execution_count": null,
   "metadata": {
    "colab": {
     "base_uri": "https://localhost:8080/"
    },
    "executionInfo": {
     "elapsed": 447,
     "status": "ok",
     "timestamp": 1659603171381,
     "user": {
      "displayName": "Yunus Koyun",
      "userId": "00144374272071843442"
     },
     "user_tz": -180
    },
    "id": "0IW0GtfCAd_J",
    "outputId": "35affd0a-58da-4d09-f2a3-a7778df8a417"
   },
   "outputs": [
    {
     "data": {
      "text/plain": [
       "array([[ 5, 77],\n",
       "       [13, 77]])"
      ]
     },
     "execution_count": 69,
     "metadata": {},
     "output_type": "execute_result"
    }
   ],
   "source": [
    "# YOUR CODE IS HERE \n",
    "mat[1::2,::2]"
   ]
  },
  {
   "cell_type": "raw",
   "metadata": {
    "id": "D7oznLisb8yh"
   },
   "source": [
    "Desired Output:\n",
    "\n",
    "array([[ 5, 77],\n",
    "       [13, 77]])"
   ]
  },
  {
   "cell_type": "markdown",
   "metadata": {
    "id": "G1aoEVaJAd_J"
   },
   "source": [
    "## NumPy Operations"
   ]
  },
  {
   "cell_type": "markdown",
   "metadata": {
    "id": "2p7ZbeTLAd_K"
   },
   "source": [
    "### 20. Get the sum of values smaller than 10 and values bigger than 12 in \"mat\"."
   ]
  },
  {
   "cell_type": "code",
   "execution_count": null,
   "metadata": {
    "colab": {
     "base_uri": "https://localhost:8080/"
    },
    "executionInfo": {
     "elapsed": 362,
     "status": "ok",
     "timestamp": 1659608816640,
     "user": {
      "displayName": "Yunus Koyun",
      "userId": "00144374272071843442"
     },
     "user_tz": -180
    },
    "id": "c5jRRXWeb8yh",
    "outputId": "6fe7645b-1cad-4740-c823-7c50c908a8bd"
   },
   "outputs": [
    {
     "data": {
      "text/plain": [
       "array([[ 1,  2, 77,  4],\n",
       "       [ 5,  6, 77,  8],\n",
       "       [ 9, 10, 77, 12],\n",
       "       [13, 14, 77, 16]])"
      ]
     },
     "execution_count": 75,
     "metadata": {},
     "output_type": "execute_result"
    }
   ],
   "source": [
    "# LET US REMEMBER OUR ARRAY OF \"mat\" \n",
    "\n",
    "mat\n",
    "\n"
   ]
  },
  {
   "cell_type": "raw",
   "metadata": {
    "id": "a5zvQNrqb8yh"
   },
   "source": [
    "Desired Output:\n",
    "\n",
    "array([[ 1,  2, 77,  4],\n",
    "       [ 5,  6, 77,  8],\n",
    "       [ 9, 10, 77, 12],\n",
    "       [13, 14, 77, 16]])"
   ]
  },
  {
   "cell_type": "code",
   "execution_count": null,
   "metadata": {
    "colab": {
     "base_uri": "https://localhost:8080/"
    },
    "executionInfo": {
     "elapsed": 335,
     "status": "ok",
     "timestamp": 1659608824549,
     "user": {
      "displayName": "Yunus Koyun",
      "userId": "00144374272071843442"
     },
     "user_tz": -180
    },
    "id": "LD_0rzT6Ad_K",
    "outputId": "d610e268-d78e-4474-c059-6a94bc243e49"
   },
   "outputs": [
    {
     "data": {
      "text/plain": [
       "array([1, 2, 4, 5, 6, 8, 9])"
      ]
     },
     "execution_count": 76,
     "metadata": {},
     "output_type": "execute_result"
    }
   ],
   "source": [
    "# LET US FIND THE VALUES SMALLER THAN 10 IN \"mat\" \n",
    "\n",
    "mat[mat<10]\n",
    "\n"
   ]
  },
  {
   "cell_type": "raw",
   "metadata": {
    "id": "cfDcdAkAb8yi"
   },
   "source": [
    "Desired Output:\n",
    "\n",
    "array([1, 2, 4, 5, 6, 8, 9])"
   ]
  },
  {
   "cell_type": "code",
   "execution_count": null,
   "metadata": {
    "colab": {
     "base_uri": "https://localhost:8080/"
    },
    "executionInfo": {
     "elapsed": 330,
     "status": "ok",
     "timestamp": 1659608831877,
     "user": {
      "displayName": "Yunus Koyun",
      "userId": "00144374272071843442"
     },
     "user_tz": -180
    },
    "id": "RIpotHKeAd_K",
    "outputId": "71440a21-15cf-436b-89ad-679b365bab41"
   },
   "outputs": [
    {
     "data": {
      "text/plain": [
       "array([77, 77, 77, 13, 14, 77, 16])"
      ]
     },
     "execution_count": 77,
     "metadata": {},
     "output_type": "execute_result"
    }
   ],
   "source": [
    "# LET US FIND THE VALUES BIGGER THAN 12 IN \"mat\" \n",
    "\n",
    "mat[mat>12]\n",
    "\n"
   ]
  },
  {
   "cell_type": "raw",
   "metadata": {
    "id": "akecl2l7b8yo"
   },
   "source": [
    "Desired Output:\n",
    "\n",
    "array([77, 77, 77, 13, 14, 77, 16])"
   ]
  },
  {
   "cell_type": "code",
   "execution_count": null,
   "metadata": {
    "colab": {
     "base_uri": "https://localhost:8080/"
    },
    "executionInfo": {
     "elapsed": 290,
     "status": "ok",
     "timestamp": 1659609048883,
     "user": {
      "displayName": "Yunus Koyun",
      "userId": "00144374272071843442"
     },
     "user_tz": -180
    },
    "id": "m4XkRQFiAd_K",
    "outputId": "cab8c012-b67b-4b8d-d724-7d9db4609b69"
   },
   "outputs": [
    {
     "data": {
      "text/plain": [
       "array([78, 79, 81, 18, 20, 85, 25])"
      ]
     },
     "execution_count": 84,
     "metadata": {},
     "output_type": "execute_result"
    }
   ],
   "source": [
    "# LET US SUM THE VALUES SMALLER THAN 10 AND BIGGER THAN 12 IN \"mat\" \n",
    "\n",
    "mat[mat<10] + mat[mat>12]\n",
    "\n"
   ]
  },
  {
   "cell_type": "raw",
   "metadata": {
    "id": "wGwHJWCZb8yo"
   },
   "source": [
    "Desired Output:\n",
    "\n",
    "array([78, 79, 81, 18, 20, 85, 25])"
   ]
  },
  {
   "cell_type": "markdown",
   "metadata": {
    "id": "adWvgD-oAd_L"
   },
   "source": [
    "### 21. Get the standard deviation (std) of the result above."
   ]
  },
  {
   "cell_type": "code",
   "execution_count": null,
   "metadata": {
    "colab": {
     "base_uri": "https://localhost:8080/"
    },
    "executionInfo": {
     "elapsed": 353,
     "status": "ok",
     "timestamp": 1659609352411,
     "user": {
      "displayName": "Yunus Koyun",
      "userId": "00144374272071843442"
     },
     "user_tz": -180
    },
    "id": "96DAIF1fAd_L",
    "outputId": "ad06b207-c0ea-47a9-e8ff-3aca600c9d61"
   },
   "outputs": [
    {
     "data": {
      "text/plain": [
       "29.700546274093877"
      ]
     },
     "execution_count": 85,
     "metadata": {},
     "output_type": "execute_result"
    }
   ],
   "source": [
    "np.std(mat[mat<10] + mat[mat>12])\n",
    "\n"
   ]
  },
  {
   "cell_type": "raw",
   "metadata": {
    "id": "QVRMUKnVb8yp"
   },
   "source": [
    "Desired Output:\n",
    "\n",
    "29.700546274093877"
   ]
  },
  {
   "cell_type": "markdown",
   "metadata": {
    "id": "FkhK2cOqAd_L"
   },
   "source": [
    "### 22. Get the sum of the 2nd column in the original \"mat\"."
   ]
  },
  {
   "cell_type": "code",
   "execution_count": null,
   "metadata": {
    "colab": {
     "base_uri": "https://localhost:8080/"
    },
    "executionInfo": {
     "elapsed": 347,
     "status": "ok",
     "timestamp": 1659609565726,
     "user": {
      "displayName": "Yunus Koyun",
      "userId": "00144374272071843442"
     },
     "user_tz": -180
    },
    "id": "XDQqGSzkAd_M",
    "outputId": "a40c9854-34e0-42a8-c123-0d7c0c11815f"
   },
   "outputs": [
    {
     "data": {
      "text/plain": [
       "array([[ 1,  2, 77,  4],\n",
       "       [ 5,  6, 77,  8],\n",
       "       [ 9, 10, 77, 12],\n",
       "       [13, 14, 77, 16]])"
      ]
     },
     "execution_count": 92,
     "metadata": {},
     "output_type": "execute_result"
    }
   ],
   "source": [
    "# LET US REMEMBER OUR ARRAY OF \"mat\" \n",
    "\n",
    "mat\n",
    "\n"
   ]
  },
  {
   "cell_type": "raw",
   "metadata": {
    "id": "qI-oqXVMb8yp"
   },
   "source": [
    "Desired Output:\n",
    "\n",
    "array([[ 1,  2, 77,  4],\n",
    "       [ 5,  6, 77,  8],\n",
    "       [ 9, 10, 77, 12],\n",
    "       [13, 14, 77, 16]])"
   ]
  },
  {
   "cell_type": "code",
   "execution_count": null,
   "metadata": {
    "colab": {
     "base_uri": "https://localhost:8080/"
    },
    "executionInfo": {
     "elapsed": 367,
     "status": "ok",
     "timestamp": 1659609569609,
     "user": {
      "displayName": "Yunus Koyun",
      "userId": "00144374272071843442"
     },
     "user_tz": -180
    },
    "id": "qNeP5ttGAd_M",
    "outputId": "129c73da-95f7-40c9-ebf4-3c4fa22af8c1"
   },
   "outputs": [
    {
     "data": {
      "text/plain": [
       "array([[ 1,  2,  3,  4],\n",
       "       [ 5,  6,  7,  8],\n",
       "       [ 9, 10, 11, 12],\n",
       "       [13, 14, 15, 16]])"
      ]
     },
     "execution_count": 93,
     "metadata": {},
     "output_type": "execute_result"
    }
   ],
   "source": [
    "# LET OBTAIN THE ORIGINAL ARRAY OF \"mat\" \n",
    "\n",
    "mat[:,2]= [3,7,11,15]\n",
    "\n",
    "mat\n",
    "\n"
   ]
  },
  {
   "cell_type": "raw",
   "metadata": {
    "id": "tS9jIVwDb8yp"
   },
   "source": [
    "Desired Output:\n",
    "\n",
    "array([[ 1,  2,  3,  4],\n",
    "       [ 5,  6,  7,  8],\n",
    "       [ 9, 10, 11, 12],\n",
    "       [13, 14, 15, 16]])"
   ]
  },
  {
   "cell_type": "code",
   "execution_count": null,
   "metadata": {
    "colab": {
     "base_uri": "https://localhost:8080/"
    },
    "executionInfo": {
     "elapsed": 324,
     "status": "ok",
     "timestamp": 1659609712124,
     "user": {
      "displayName": "Yunus Koyun",
      "userId": "00144374272071843442"
     },
     "user_tz": -180
    },
    "id": "xzqyV2SZAd_M",
    "outputId": "566a5b50-7da7-4951-8466-49d4090b5d60",
    "scrolled": true
   },
   "outputs": [
    {
     "data": {
      "text/plain": [
       "32"
      ]
     },
     "execution_count": 96,
     "metadata": {},
     "output_type": "execute_result"
    }
   ],
   "source": [
    "np.sum(mat[:,1])\n",
    "\n"
   ]
  },
  {
   "cell_type": "raw",
   "metadata": {
    "id": "yG5TQbSDb8yq"
   },
   "source": [
    "Desired Output:\n",
    "\n",
    "32"
   ]
  },
  {
   "cell_type": "markdown",
   "metadata": {
    "id": "kCQ1GvPUAd_N"
   },
   "source": [
    "### 23. Get the median, mean and std of 3rd column in \"mat\"."
   ]
  },
  {
   "cell_type": "code",
   "execution_count": null,
   "metadata": {
    "colab": {
     "base_uri": "https://localhost:8080/"
    },
    "executionInfo": {
     "elapsed": 346,
     "status": "ok",
     "timestamp": 1659609729146,
     "user": {
      "displayName": "Yunus Koyun",
      "userId": "00144374272071843442"
     },
     "user_tz": -180
    },
    "id": "CozIby1qb8yq",
    "outputId": "e15a2f81-8137-4854-e706-f5d59e4340f6"
   },
   "outputs": [
    {
     "data": {
      "text/plain": [
       "array([[ 1,  2,  3,  4],\n",
       "       [ 5,  6,  7,  8],\n",
       "       [ 9, 10, 11, 12],\n",
       "       [13, 14, 15, 16]])"
      ]
     },
     "execution_count": 97,
     "metadata": {},
     "output_type": "execute_result"
    }
   ],
   "source": [
    "# LET US REMEMBER OUR ARRAY OF \"mat\" \n",
    "\n",
    "mat\n",
    "\n"
   ]
  },
  {
   "cell_type": "raw",
   "metadata": {
    "id": "y-xHzzwhb8yq"
   },
   "source": [
    "Desired Output:\n",
    "\n",
    "array([[ 1,  2,  3,  4],\n",
    "       [ 5,  6,  7,  8],\n",
    "       [ 9, 10, 11, 12],\n",
    "       [13, 14, 15, 16]])"
   ]
  },
  {
   "cell_type": "code",
   "execution_count": null,
   "metadata": {
    "colab": {
     "base_uri": "https://localhost:8080/"
    },
    "executionInfo": {
     "elapsed": 271,
     "status": "ok",
     "timestamp": 1659610735915,
     "user": {
      "displayName": "Yunus Koyun",
      "userId": "00144374272071843442"
     },
     "user_tz": -180
    },
    "id": "dzb_lLvTb8yq",
    "outputId": "eaaf3133-0829-4369-d913-e308235a3302"
   },
   "outputs": [
    {
     "data": {
      "text/plain": [
       "array([ 3,  7, 11, 15])"
      ]
     },
     "execution_count": 113,
     "metadata": {},
     "output_type": "execute_result"
    }
   ],
   "source": [
    "# LET US ASSIGN THE COLUMN WE ARE INTERESTED IN TO A VARIABLE \n",
    "\n",
    "col_mat = mat[:,2]\n",
    "col_mat\n",
    "\n"
   ]
  },
  {
   "cell_type": "raw",
   "metadata": {
    "id": "NIe_j-IHb8yr"
   },
   "source": [
    "Desired Output:\n",
    "\n",
    "array([[ 3],\n",
    "       [ 7],\n",
    "       [11],\n",
    "       [15]])"
   ]
  },
  {
   "cell_type": "code",
   "execution_count": null,
   "metadata": {
    "colab": {
     "base_uri": "https://localhost:8080/"
    },
    "executionInfo": {
     "elapsed": 311,
     "status": "ok",
     "timestamp": 1659610751134,
     "user": {
      "displayName": "Yunus Koyun",
      "userId": "00144374272071843442"
     },
     "user_tz": -180
    },
    "id": "Rw1Y8TxFb8yr",
    "outputId": "68f1b92d-2e58-41e0-fa01-eb1ebc787d7f"
   },
   "outputs": [
    {
     "data": {
      "text/plain": [
       "array([ 9, 10, 11, 12])"
      ]
     },
     "execution_count": 114,
     "metadata": {},
     "output_type": "execute_result"
    }
   ],
   "source": [
    "# WHAT IF WE ARE INTERESTED IN THE 3RD ROW? \n",
    "\n",
    "row_mat = mat[2,:]\n",
    "row_mat\n",
    "\n"
   ]
  },
  {
   "cell_type": "raw",
   "metadata": {
    "id": "c6vl-2Yhb8yr"
   },
   "source": [
    "Desired Output:\n",
    "\n",
    "array([ 9, 10, 11, 12])"
   ]
  },
  {
   "cell_type": "code",
   "execution_count": null,
   "metadata": {
    "colab": {
     "base_uri": "https://localhost:8080/"
    },
    "executionInfo": {
     "elapsed": 301,
     "status": "ok",
     "timestamp": 1659610804931,
     "user": {
      "displayName": "Yunus Koyun",
      "userId": "00144374272071843442"
     },
     "user_tz": -180
    },
    "id": "OX4fqkipAd_N",
    "outputId": "287c9299-857e-42fb-f0f0-5df967b62685"
   },
   "outputs": [
    {
     "name": "stdout",
     "output_type": "stream",
     "text": [
      "9.0\n",
      "10.5\n"
     ]
    }
   ],
   "source": [
    "# LET US GET MEDIAN VALUE \n",
    "\n",
    "print(np.median(col_mat))\n",
    "print(np.median(row_mat))\n",
    "\n"
   ]
  },
  {
   "cell_type": "raw",
   "metadata": {
    "id": "niEsxC-gb8yr"
   },
   "source": [
    "Desired Output:\n",
    "\n",
    "9.0\n",
    "10.5"
   ]
  },
  {
   "cell_type": "code",
   "execution_count": null,
   "metadata": {
    "colab": {
     "base_uri": "https://localhost:8080/"
    },
    "executionInfo": {
     "elapsed": 284,
     "status": "ok",
     "timestamp": 1659610820546,
     "user": {
      "displayName": "Yunus Koyun",
      "userId": "00144374272071843442"
     },
     "user_tz": -180
    },
    "id": "oZpsC7rFAd_N",
    "outputId": "0d868616-162b-49df-f64c-665b1e2cac02"
   },
   "outputs": [
    {
     "name": "stdout",
     "output_type": "stream",
     "text": [
      "9.0\n",
      "10.5\n"
     ]
    }
   ],
   "source": [
    "# LET US GET MEAN VALUE \n",
    "\n",
    "print(np.mean(col_mat))\n",
    "print(np.mean(row_mat))\n",
    "\n"
   ]
  },
  {
   "cell_type": "raw",
   "metadata": {
    "id": "At0b3MD_b8ys"
   },
   "source": [
    "Desired Output:\n",
    "\n",
    "9.0\n",
    "10.5"
   ]
  },
  {
   "cell_type": "code",
   "execution_count": null,
   "metadata": {
    "colab": {
     "base_uri": "https://localhost:8080/"
    },
    "executionInfo": {
     "elapsed": 441,
     "status": "ok",
     "timestamp": 1659610835996,
     "user": {
      "displayName": "Yunus Koyun",
      "userId": "00144374272071843442"
     },
     "user_tz": -180
    },
    "id": "g8bveYJuAd_O",
    "outputId": "a9abe4eb-a7d7-41ff-a1e8-0113c9703c4f"
   },
   "outputs": [
    {
     "name": "stdout",
     "output_type": "stream",
     "text": [
      "4.47213595499958\n",
      "1.118033988749895\n"
     ]
    }
   ],
   "source": [
    "# LET US GET STANDART DEVIATION (std) VALUE \n",
    "\n",
    "print(np.std(col_mat))\n",
    "print(np.std(row_mat))\n",
    "\n"
   ]
  },
  {
   "cell_type": "raw",
   "metadata": {
    "id": "BFmsXgHvb8ys"
   },
   "source": [
    "Desired Output:\n",
    "\n",
    "4.47213595499958\n",
    "1.118033988749895"
   ]
  },
  {
   "cell_type": "markdown",
   "metadata": {
    "collapsed": true,
    "id": "gZ5HUfC4Ad_O"
   },
   "source": [
    "## <p style=\"background-color:#9d4f8c; font-family:newtimeroman; color:#FFF9ED; font-size:175%; text-align:center; border-radius:10px 10px;\">Pandas Section</p>\n",
    "\n",
    "<a id=\"1\"></a>\n",
    "<a href=\"#toc\" class=\"btn btn-primary btn-sm\" role=\"button\" aria-pressed=\"true\" \n",
    "style=\"color:blue; background-color:#dfa8e4\" data-toggle=\"popover\">Content</a>"
   ]
  },
  {
   "cell_type": "markdown",
   "metadata": {
    "id": "6o6k8GqTb8yt"
   },
   "source": [
    "### Import Pandas Library"
   ]
  },
  {
   "cell_type": "code",
   "execution_count": 2,
   "metadata": {
    "executionInfo": {
     "elapsed": 15,
     "status": "ok",
     "timestamp": 1659624331831,
     "user": {
      "displayName": "Yunus Koyun",
      "userId": "00144374272071843442"
     },
     "user_tz": -180
    },
    "id": "lrbS4u52Ad_P"
   },
   "outputs": [],
   "source": [
    "import pandas as pd"
   ]
  },
  {
   "cell_type": "markdown",
   "metadata": {
    "id": "eacrpv_7Ad_P"
   },
   "source": [
    "### Read Salaries.csv and take a look at the first 5 rows, df info and df statistical measurements.*"
   ]
  },
  {
   "cell_type": "code",
   "execution_count": 3,
   "metadata": {
    "colab": {
     "base_uri": "https://localhost:8080/",
     "height": 424
    },
    "executionInfo": {
     "elapsed": 372,
     "status": "ok",
     "timestamp": 1659624335819,
     "user": {
      "displayName": "Yunus Koyun",
      "userId": "00144374272071843442"
     },
     "user_tz": -180
    },
    "id": "OP4b0LcTAd_P",
    "outputId": "5ec831f9-9898-4467-b139-a36c93f5d2c4"
   },
   "outputs": [
    {
     "data": {
      "text/html": [
       "<div>\n",
       "<style scoped>\n",
       "    .dataframe tbody tr th:only-of-type {\n",
       "        vertical-align: middle;\n",
       "    }\n",
       "\n",
       "    .dataframe tbody tr th {\n",
       "        vertical-align: top;\n",
       "    }\n",
       "\n",
       "    .dataframe thead th {\n",
       "        text-align: right;\n",
       "    }\n",
       "</style>\n",
       "<table border=\"1\" class=\"dataframe\">\n",
       "  <thead>\n",
       "    <tr style=\"text-align: right;\">\n",
       "      <th></th>\n",
       "      <th>Id</th>\n",
       "      <th>EmployeeName</th>\n",
       "      <th>JobTitle</th>\n",
       "      <th>BasePay</th>\n",
       "      <th>OvertimePay</th>\n",
       "      <th>OtherPay</th>\n",
       "      <th>Benefits</th>\n",
       "      <th>TotalPay</th>\n",
       "      <th>TotalPayBenefits</th>\n",
       "      <th>Year</th>\n",
       "      <th>Notes</th>\n",
       "      <th>Agency</th>\n",
       "      <th>Status</th>\n",
       "    </tr>\n",
       "  </thead>\n",
       "  <tbody>\n",
       "    <tr>\n",
       "      <th>0</th>\n",
       "      <td>1</td>\n",
       "      <td>NATHANIEL FORD</td>\n",
       "      <td>GENERAL MANAGER-METROPOLITAN TRANSIT AUTHORITY</td>\n",
       "      <td>167411.18</td>\n",
       "      <td>0.00</td>\n",
       "      <td>400184.25</td>\n",
       "      <td>NaN</td>\n",
       "      <td>567595.43</td>\n",
       "      <td>567595.43</td>\n",
       "      <td>2011</td>\n",
       "      <td>NaN</td>\n",
       "      <td>San Francisco</td>\n",
       "      <td>NaN</td>\n",
       "    </tr>\n",
       "    <tr>\n",
       "      <th>1</th>\n",
       "      <td>2</td>\n",
       "      <td>GARY JIMENEZ</td>\n",
       "      <td>CAPTAIN III (POLICE DEPARTMENT)</td>\n",
       "      <td>155966.02</td>\n",
       "      <td>245131.88</td>\n",
       "      <td>137811.38</td>\n",
       "      <td>NaN</td>\n",
       "      <td>538909.28</td>\n",
       "      <td>538909.28</td>\n",
       "      <td>2011</td>\n",
       "      <td>NaN</td>\n",
       "      <td>San Francisco</td>\n",
       "      <td>NaN</td>\n",
       "    </tr>\n",
       "    <tr>\n",
       "      <th>2</th>\n",
       "      <td>3</td>\n",
       "      <td>ALBERT PARDINI</td>\n",
       "      <td>CAPTAIN III (POLICE DEPARTMENT)</td>\n",
       "      <td>212739.13</td>\n",
       "      <td>106088.18</td>\n",
       "      <td>16452.60</td>\n",
       "      <td>NaN</td>\n",
       "      <td>335279.91</td>\n",
       "      <td>335279.91</td>\n",
       "      <td>2011</td>\n",
       "      <td>NaN</td>\n",
       "      <td>San Francisco</td>\n",
       "      <td>NaN</td>\n",
       "    </tr>\n",
       "    <tr>\n",
       "      <th>3</th>\n",
       "      <td>4</td>\n",
       "      <td>CHRISTOPHER CHONG</td>\n",
       "      <td>WIRE ROPE CABLE MAINTENANCE MECHANIC</td>\n",
       "      <td>77916.00</td>\n",
       "      <td>56120.71</td>\n",
       "      <td>198306.90</td>\n",
       "      <td>NaN</td>\n",
       "      <td>332343.61</td>\n",
       "      <td>332343.61</td>\n",
       "      <td>2011</td>\n",
       "      <td>NaN</td>\n",
       "      <td>San Francisco</td>\n",
       "      <td>NaN</td>\n",
       "    </tr>\n",
       "    <tr>\n",
       "      <th>4</th>\n",
       "      <td>5</td>\n",
       "      <td>PATRICK GARDNER</td>\n",
       "      <td>DEPUTY CHIEF OF DEPARTMENT,(FIRE DEPARTMENT)</td>\n",
       "      <td>134401.60</td>\n",
       "      <td>9737.00</td>\n",
       "      <td>182234.59</td>\n",
       "      <td>NaN</td>\n",
       "      <td>326373.19</td>\n",
       "      <td>326373.19</td>\n",
       "      <td>2011</td>\n",
       "      <td>NaN</td>\n",
       "      <td>San Francisco</td>\n",
       "      <td>NaN</td>\n",
       "    </tr>\n",
       "    <tr>\n",
       "      <th>...</th>\n",
       "      <td>...</td>\n",
       "      <td>...</td>\n",
       "      <td>...</td>\n",
       "      <td>...</td>\n",
       "      <td>...</td>\n",
       "      <td>...</td>\n",
       "      <td>...</td>\n",
       "      <td>...</td>\n",
       "      <td>...</td>\n",
       "      <td>...</td>\n",
       "      <td>...</td>\n",
       "      <td>...</td>\n",
       "      <td>...</td>\n",
       "    </tr>\n",
       "    <tr>\n",
       "      <th>148649</th>\n",
       "      <td>148650</td>\n",
       "      <td>Roy I Tillery</td>\n",
       "      <td>Custodian</td>\n",
       "      <td>0.00</td>\n",
       "      <td>0.00</td>\n",
       "      <td>0.00</td>\n",
       "      <td>0.0</td>\n",
       "      <td>0.00</td>\n",
       "      <td>0.00</td>\n",
       "      <td>2014</td>\n",
       "      <td>NaN</td>\n",
       "      <td>San Francisco</td>\n",
       "      <td>NaN</td>\n",
       "    </tr>\n",
       "    <tr>\n",
       "      <th>148650</th>\n",
       "      <td>148651</td>\n",
       "      <td>Not provided</td>\n",
       "      <td>Not provided</td>\n",
       "      <td>NaN</td>\n",
       "      <td>NaN</td>\n",
       "      <td>NaN</td>\n",
       "      <td>NaN</td>\n",
       "      <td>0.00</td>\n",
       "      <td>0.00</td>\n",
       "      <td>2014</td>\n",
       "      <td>NaN</td>\n",
       "      <td>San Francisco</td>\n",
       "      <td>NaN</td>\n",
       "    </tr>\n",
       "    <tr>\n",
       "      <th>148651</th>\n",
       "      <td>148652</td>\n",
       "      <td>Not provided</td>\n",
       "      <td>Not provided</td>\n",
       "      <td>NaN</td>\n",
       "      <td>NaN</td>\n",
       "      <td>NaN</td>\n",
       "      <td>NaN</td>\n",
       "      <td>0.00</td>\n",
       "      <td>0.00</td>\n",
       "      <td>2014</td>\n",
       "      <td>NaN</td>\n",
       "      <td>San Francisco</td>\n",
       "      <td>NaN</td>\n",
       "    </tr>\n",
       "    <tr>\n",
       "      <th>148652</th>\n",
       "      <td>148653</td>\n",
       "      <td>Not provided</td>\n",
       "      <td>Not provided</td>\n",
       "      <td>NaN</td>\n",
       "      <td>NaN</td>\n",
       "      <td>NaN</td>\n",
       "      <td>NaN</td>\n",
       "      <td>0.00</td>\n",
       "      <td>0.00</td>\n",
       "      <td>2014</td>\n",
       "      <td>NaN</td>\n",
       "      <td>San Francisco</td>\n",
       "      <td>NaN</td>\n",
       "    </tr>\n",
       "    <tr>\n",
       "      <th>148653</th>\n",
       "      <td>148654</td>\n",
       "      <td>Joe Lopez</td>\n",
       "      <td>Counselor, Log Cabin Ranch</td>\n",
       "      <td>0.00</td>\n",
       "      <td>0.00</td>\n",
       "      <td>-618.13</td>\n",
       "      <td>0.0</td>\n",
       "      <td>-618.13</td>\n",
       "      <td>-618.13</td>\n",
       "      <td>2014</td>\n",
       "      <td>NaN</td>\n",
       "      <td>San Francisco</td>\n",
       "      <td>NaN</td>\n",
       "    </tr>\n",
       "  </tbody>\n",
       "</table>\n",
       "<p>148654 rows × 13 columns</p>\n",
       "</div>"
      ],
      "text/plain": [
       "            Id       EmployeeName  \\\n",
       "0            1     NATHANIEL FORD   \n",
       "1            2       GARY JIMENEZ   \n",
       "2            3     ALBERT PARDINI   \n",
       "3            4  CHRISTOPHER CHONG   \n",
       "4            5    PATRICK GARDNER   \n",
       "...        ...                ...   \n",
       "148649  148650      Roy I Tillery   \n",
       "148650  148651       Not provided   \n",
       "148651  148652       Not provided   \n",
       "148652  148653       Not provided   \n",
       "148653  148654          Joe Lopez   \n",
       "\n",
       "                                              JobTitle    BasePay  \\\n",
       "0       GENERAL MANAGER-METROPOLITAN TRANSIT AUTHORITY  167411.18   \n",
       "1                      CAPTAIN III (POLICE DEPARTMENT)  155966.02   \n",
       "2                      CAPTAIN III (POLICE DEPARTMENT)  212739.13   \n",
       "3                 WIRE ROPE CABLE MAINTENANCE MECHANIC   77916.00   \n",
       "4         DEPUTY CHIEF OF DEPARTMENT,(FIRE DEPARTMENT)  134401.60   \n",
       "...                                                ...        ...   \n",
       "148649                                       Custodian       0.00   \n",
       "148650                                    Not provided        NaN   \n",
       "148651                                    Not provided        NaN   \n",
       "148652                                    Not provided        NaN   \n",
       "148653                      Counselor, Log Cabin Ranch       0.00   \n",
       "\n",
       "        OvertimePay   OtherPay  Benefits   TotalPay  TotalPayBenefits  Year  \\\n",
       "0              0.00  400184.25       NaN  567595.43         567595.43  2011   \n",
       "1         245131.88  137811.38       NaN  538909.28         538909.28  2011   \n",
       "2         106088.18   16452.60       NaN  335279.91         335279.91  2011   \n",
       "3          56120.71  198306.90       NaN  332343.61         332343.61  2011   \n",
       "4           9737.00  182234.59       NaN  326373.19         326373.19  2011   \n",
       "...             ...        ...       ...        ...               ...   ...   \n",
       "148649         0.00       0.00       0.0       0.00              0.00  2014   \n",
       "148650          NaN        NaN       NaN       0.00              0.00  2014   \n",
       "148651          NaN        NaN       NaN       0.00              0.00  2014   \n",
       "148652          NaN        NaN       NaN       0.00              0.00  2014   \n",
       "148653         0.00    -618.13       0.0    -618.13           -618.13  2014   \n",
       "\n",
       "        Notes         Agency  Status  \n",
       "0         NaN  San Francisco     NaN  \n",
       "1         NaN  San Francisco     NaN  \n",
       "2         NaN  San Francisco     NaN  \n",
       "3         NaN  San Francisco     NaN  \n",
       "4         NaN  San Francisco     NaN  \n",
       "...       ...            ...     ...  \n",
       "148649    NaN  San Francisco     NaN  \n",
       "148650    NaN  San Francisco     NaN  \n",
       "148651    NaN  San Francisco     NaN  \n",
       "148652    NaN  San Francisco     NaN  \n",
       "148653    NaN  San Francisco     NaN  \n",
       "\n",
       "[148654 rows x 13 columns]"
      ]
     },
     "execution_count": 3,
     "metadata": {},
     "output_type": "execute_result"
    }
   ],
   "source": [
    "# LET US READ Salaries.csv \n",
    "\n",
    "df = pd.read_csv(\"Salaries.csv\")\n",
    "df\n",
    "\n"
   ]
  },
  {
   "cell_type": "code",
   "execution_count": 4,
   "metadata": {
    "colab": {
     "base_uri": "https://localhost:8080/",
     "height": 206
    },
    "executionInfo": {
     "elapsed": 381,
     "status": "ok",
     "timestamp": 1659622304393,
     "user": {
      "displayName": "Yunus Koyun",
      "userId": "00144374272071843442"
     },
     "user_tz": -180
    },
    "id": "qc6Tt4loAd_Q",
    "outputId": "50a66f7e-3e20-4132-ef65-f3069214504a"
   },
   "outputs": [
    {
     "data": {
      "text/html": [
       "<div>\n",
       "<style scoped>\n",
       "    .dataframe tbody tr th:only-of-type {\n",
       "        vertical-align: middle;\n",
       "    }\n",
       "\n",
       "    .dataframe tbody tr th {\n",
       "        vertical-align: top;\n",
       "    }\n",
       "\n",
       "    .dataframe thead th {\n",
       "        text-align: right;\n",
       "    }\n",
       "</style>\n",
       "<table border=\"1\" class=\"dataframe\">\n",
       "  <thead>\n",
       "    <tr style=\"text-align: right;\">\n",
       "      <th></th>\n",
       "      <th>Id</th>\n",
       "      <th>EmployeeName</th>\n",
       "      <th>JobTitle</th>\n",
       "      <th>BasePay</th>\n",
       "      <th>OvertimePay</th>\n",
       "      <th>OtherPay</th>\n",
       "      <th>Benefits</th>\n",
       "      <th>TotalPay</th>\n",
       "      <th>TotalPayBenefits</th>\n",
       "      <th>Year</th>\n",
       "      <th>Notes</th>\n",
       "      <th>Agency</th>\n",
       "      <th>Status</th>\n",
       "    </tr>\n",
       "  </thead>\n",
       "  <tbody>\n",
       "    <tr>\n",
       "      <th>0</th>\n",
       "      <td>1</td>\n",
       "      <td>NATHANIEL FORD</td>\n",
       "      <td>GENERAL MANAGER-METROPOLITAN TRANSIT AUTHORITY</td>\n",
       "      <td>167411.18</td>\n",
       "      <td>0.00</td>\n",
       "      <td>400184.25</td>\n",
       "      <td>NaN</td>\n",
       "      <td>567595.43</td>\n",
       "      <td>567595.43</td>\n",
       "      <td>2011</td>\n",
       "      <td>NaN</td>\n",
       "      <td>San Francisco</td>\n",
       "      <td>NaN</td>\n",
       "    </tr>\n",
       "    <tr>\n",
       "      <th>1</th>\n",
       "      <td>2</td>\n",
       "      <td>GARY JIMENEZ</td>\n",
       "      <td>CAPTAIN III (POLICE DEPARTMENT)</td>\n",
       "      <td>155966.02</td>\n",
       "      <td>245131.88</td>\n",
       "      <td>137811.38</td>\n",
       "      <td>NaN</td>\n",
       "      <td>538909.28</td>\n",
       "      <td>538909.28</td>\n",
       "      <td>2011</td>\n",
       "      <td>NaN</td>\n",
       "      <td>San Francisco</td>\n",
       "      <td>NaN</td>\n",
       "    </tr>\n",
       "    <tr>\n",
       "      <th>2</th>\n",
       "      <td>3</td>\n",
       "      <td>ALBERT PARDINI</td>\n",
       "      <td>CAPTAIN III (POLICE DEPARTMENT)</td>\n",
       "      <td>212739.13</td>\n",
       "      <td>106088.18</td>\n",
       "      <td>16452.60</td>\n",
       "      <td>NaN</td>\n",
       "      <td>335279.91</td>\n",
       "      <td>335279.91</td>\n",
       "      <td>2011</td>\n",
       "      <td>NaN</td>\n",
       "      <td>San Francisco</td>\n",
       "      <td>NaN</td>\n",
       "    </tr>\n",
       "    <tr>\n",
       "      <th>3</th>\n",
       "      <td>4</td>\n",
       "      <td>CHRISTOPHER CHONG</td>\n",
       "      <td>WIRE ROPE CABLE MAINTENANCE MECHANIC</td>\n",
       "      <td>77916.00</td>\n",
       "      <td>56120.71</td>\n",
       "      <td>198306.90</td>\n",
       "      <td>NaN</td>\n",
       "      <td>332343.61</td>\n",
       "      <td>332343.61</td>\n",
       "      <td>2011</td>\n",
       "      <td>NaN</td>\n",
       "      <td>San Francisco</td>\n",
       "      <td>NaN</td>\n",
       "    </tr>\n",
       "    <tr>\n",
       "      <th>4</th>\n",
       "      <td>5</td>\n",
       "      <td>PATRICK GARDNER</td>\n",
       "      <td>DEPUTY CHIEF OF DEPARTMENT,(FIRE DEPARTMENT)</td>\n",
       "      <td>134401.60</td>\n",
       "      <td>9737.00</td>\n",
       "      <td>182234.59</td>\n",
       "      <td>NaN</td>\n",
       "      <td>326373.19</td>\n",
       "      <td>326373.19</td>\n",
       "      <td>2011</td>\n",
       "      <td>NaN</td>\n",
       "      <td>San Francisco</td>\n",
       "      <td>NaN</td>\n",
       "    </tr>\n",
       "  </tbody>\n",
       "</table>\n",
       "</div>"
      ],
      "text/plain": [
       "   Id       EmployeeName                                        JobTitle  \\\n",
       "0   1     NATHANIEL FORD  GENERAL MANAGER-METROPOLITAN TRANSIT AUTHORITY   \n",
       "1   2       GARY JIMENEZ                 CAPTAIN III (POLICE DEPARTMENT)   \n",
       "2   3     ALBERT PARDINI                 CAPTAIN III (POLICE DEPARTMENT)   \n",
       "3   4  CHRISTOPHER CHONG            WIRE ROPE CABLE MAINTENANCE MECHANIC   \n",
       "4   5    PATRICK GARDNER    DEPUTY CHIEF OF DEPARTMENT,(FIRE DEPARTMENT)   \n",
       "\n",
       "     BasePay  OvertimePay   OtherPay  Benefits   TotalPay  TotalPayBenefits  \\\n",
       "0  167411.18         0.00  400184.25       NaN  567595.43         567595.43   \n",
       "1  155966.02    245131.88  137811.38       NaN  538909.28         538909.28   \n",
       "2  212739.13    106088.18   16452.60       NaN  335279.91         335279.91   \n",
       "3   77916.00     56120.71  198306.90       NaN  332343.61         332343.61   \n",
       "4  134401.60      9737.00  182234.59       NaN  326373.19         326373.19   \n",
       "\n",
       "   Year  Notes         Agency  Status  \n",
       "0  2011    NaN  San Francisco     NaN  \n",
       "1  2011    NaN  San Francisco     NaN  \n",
       "2  2011    NaN  San Francisco     NaN  \n",
       "3  2011    NaN  San Francisco     NaN  \n",
       "4  2011    NaN  San Francisco     NaN  "
      ]
     },
     "execution_count": 4,
     "metadata": {},
     "output_type": "execute_result"
    }
   ],
   "source": [
    "# LET US LOOK AT THE FIRST 5 ROWS \n",
    "\n",
    "df.head(5)\n",
    "\n"
   ]
  },
  {
   "cell_type": "markdown",
   "metadata": {
    "id": "jgjoTBaMb8yt"
   },
   "source": [
    "Desired Output:\n",
    "\n",
    "![image.png](https://i.ibb.co/6BTmGX8/assignment1a.png)"
   ]
  },
  {
   "cell_type": "code",
   "execution_count": 5,
   "metadata": {
    "colab": {
     "base_uri": "https://localhost:8080/",
     "height": 81
    },
    "executionInfo": {
     "elapsed": 368,
     "status": "ok",
     "timestamp": 1659622308344,
     "user": {
      "displayName": "Yunus Koyun",
      "userId": "00144374272071843442"
     },
     "user_tz": -180
    },
    "id": "YwUmq9IAAd_Q",
    "outputId": "697569c2-a95a-4207-d76b-f5b6f616ae75"
   },
   "outputs": [
    {
     "data": {
      "text/html": [
       "<div>\n",
       "<style scoped>\n",
       "    .dataframe tbody tr th:only-of-type {\n",
       "        vertical-align: middle;\n",
       "    }\n",
       "\n",
       "    .dataframe tbody tr th {\n",
       "        vertical-align: top;\n",
       "    }\n",
       "\n",
       "    .dataframe thead th {\n",
       "        text-align: right;\n",
       "    }\n",
       "</style>\n",
       "<table border=\"1\" class=\"dataframe\">\n",
       "  <thead>\n",
       "    <tr style=\"text-align: right;\">\n",
       "      <th></th>\n",
       "      <th>Id</th>\n",
       "      <th>EmployeeName</th>\n",
       "      <th>JobTitle</th>\n",
       "      <th>BasePay</th>\n",
       "      <th>OvertimePay</th>\n",
       "      <th>OtherPay</th>\n",
       "      <th>Benefits</th>\n",
       "      <th>TotalPay</th>\n",
       "      <th>TotalPayBenefits</th>\n",
       "      <th>Year</th>\n",
       "      <th>Notes</th>\n",
       "      <th>Agency</th>\n",
       "      <th>Status</th>\n",
       "    </tr>\n",
       "  </thead>\n",
       "  <tbody>\n",
       "    <tr>\n",
       "      <th>3139</th>\n",
       "      <td>3140</td>\n",
       "      <td>CECILE SOTO</td>\n",
       "      <td>MANAGER II</td>\n",
       "      <td>124723.15</td>\n",
       "      <td>0.0</td>\n",
       "      <td>14924.56</td>\n",
       "      <td>NaN</td>\n",
       "      <td>139647.71</td>\n",
       "      <td>139647.71</td>\n",
       "      <td>2011</td>\n",
       "      <td>NaN</td>\n",
       "      <td>San Francisco</td>\n",
       "      <td>NaN</td>\n",
       "    </tr>\n",
       "  </tbody>\n",
       "</table>\n",
       "</div>"
      ],
      "text/plain": [
       "        Id EmployeeName    JobTitle    BasePay  OvertimePay  OtherPay  \\\n",
       "3139  3140  CECILE SOTO  MANAGER II  124723.15          0.0  14924.56   \n",
       "\n",
       "      Benefits   TotalPay  TotalPayBenefits  Year  Notes         Agency  \\\n",
       "3139       NaN  139647.71         139647.71  2011    NaN  San Francisco   \n",
       "\n",
       "      Status  \n",
       "3139     NaN  "
      ]
     },
     "execution_count": 5,
     "metadata": {},
     "output_type": "execute_result"
    }
   ],
   "source": [
    "# LET US GET A SAMPLE \n",
    "df.sample(n=1)\n",
    "\n"
   ]
  },
  {
   "cell_type": "markdown",
   "metadata": {
    "id": "DO95jt8hb8yu"
   },
   "source": [
    "Desired Output (WATCH OUT! Your output may NOT be the same as the one):\n",
    "\n",
    "![image.png](https://i.ibb.co/mcsCxxC/assignment1b.png)"
   ]
  },
  {
   "cell_type": "code",
   "execution_count": 6,
   "metadata": {
    "colab": {
     "base_uri": "https://localhost:8080/"
    },
    "executionInfo": {
     "elapsed": 546,
     "status": "ok",
     "timestamp": 1659617796705,
     "user": {
      "displayName": "Yunus Koyun",
      "userId": "00144374272071843442"
     },
     "user_tz": -180
    },
    "id": "WuXy195gAd_Q",
    "outputId": "5a1f5ed9-0c79-40b6-b46f-e8830732e2b9"
   },
   "outputs": [
    {
     "name": "stdout",
     "output_type": "stream",
     "text": [
      "<class 'pandas.core.frame.DataFrame'>\n",
      "RangeIndex: 148654 entries, 0 to 148653\n",
      "Data columns (total 13 columns):\n",
      " #   Column            Non-Null Count   Dtype  \n",
      "---  ------            --------------   -----  \n",
      " 0   Id                148654 non-null  int64  \n",
      " 1   EmployeeName      148654 non-null  object \n",
      " 2   JobTitle          148654 non-null  object \n",
      " 3   BasePay           148045 non-null  float64\n",
      " 4   OvertimePay       148650 non-null  float64\n",
      " 5   OtherPay          148650 non-null  float64\n",
      " 6   Benefits          112491 non-null  float64\n",
      " 7   TotalPay          148654 non-null  float64\n",
      " 8   TotalPayBenefits  148654 non-null  float64\n",
      " 9   Year              148654 non-null  int64  \n",
      " 10  Notes             0 non-null       float64\n",
      " 11  Agency            148654 non-null  object \n",
      " 12  Status            0 non-null       float64\n",
      "dtypes: float64(8), int64(2), object(3)\n",
      "memory usage: 14.7+ MB\n"
     ]
    }
   ],
   "source": [
    "df.info()\n",
    "\n"
   ]
  },
  {
   "cell_type": "raw",
   "metadata": {
    "id": "iy-uaai9b8yu"
   },
   "source": [
    "Desired Output:\n",
    "\n",
    "<class 'pandas.core.frame.DataFrame'>\n",
    "RangeIndex: 148654 entries, 0 to 148653\n",
    "Data columns (total 13 columns):\n",
    " #   Column            Non-Null Count   Dtype  \n",
    "---  ------            --------------   -----  \n",
    " 0   Id                148654 non-null  int64  \n",
    " 1   EmployeeName      148654 non-null  object \n",
    " 2   JobTitle          148654 non-null  object \n",
    " 3   BasePay           148045 non-null  float64\n",
    " 4   OvertimePay       148650 non-null  float64\n",
    " 5   OtherPay          148650 non-null  float64\n",
    " 6   Benefits          112491 non-null  float64\n",
    " 7   TotalPay          148654 non-null  float64\n",
    " 8   TotalPayBenefits  148654 non-null  float64\n",
    " 9   Year              148654 non-null  int64  \n",
    " 10  Notes             0 non-null       float64\n",
    " 11  Agency            148654 non-null  object \n",
    " 12  Status            0 non-null       float64\n",
    "dtypes: float64(8), int64(2), object(3)\n",
    "memory usage: 14.7+ MB"
   ]
  },
  {
   "cell_type": "code",
   "execution_count": 7,
   "metadata": {
    "colab": {
     "base_uri": "https://localhost:8080/",
     "height": 364
    },
    "executionInfo": {
     "elapsed": 385,
     "status": "ok",
     "timestamp": 1659618083046,
     "user": {
      "displayName": "Yunus Koyun",
      "userId": "00144374272071843442"
     },
     "user_tz": -180
    },
    "id": "02GV54nZAd_R",
    "outputId": "312fb302-844f-4385-aac7-57bb4c928224"
   },
   "outputs": [
    {
     "data": {
      "text/html": [
       "<div>\n",
       "<style scoped>\n",
       "    .dataframe tbody tr th:only-of-type {\n",
       "        vertical-align: middle;\n",
       "    }\n",
       "\n",
       "    .dataframe tbody tr th {\n",
       "        vertical-align: top;\n",
       "    }\n",
       "\n",
       "    .dataframe thead th {\n",
       "        text-align: right;\n",
       "    }\n",
       "</style>\n",
       "<table border=\"1\" class=\"dataframe\">\n",
       "  <thead>\n",
       "    <tr style=\"text-align: right;\">\n",
       "      <th></th>\n",
       "      <th>Id</th>\n",
       "      <th>BasePay</th>\n",
       "      <th>OvertimePay</th>\n",
       "      <th>OtherPay</th>\n",
       "      <th>Benefits</th>\n",
       "      <th>TotalPay</th>\n",
       "      <th>TotalPayBenefits</th>\n",
       "      <th>Year</th>\n",
       "      <th>Notes</th>\n",
       "      <th>Status</th>\n",
       "    </tr>\n",
       "  </thead>\n",
       "  <tbody>\n",
       "    <tr>\n",
       "      <th>count</th>\n",
       "      <td>148654.000000</td>\n",
       "      <td>148045.000000</td>\n",
       "      <td>148650.000000</td>\n",
       "      <td>148650.000000</td>\n",
       "      <td>112491.000000</td>\n",
       "      <td>148654.000000</td>\n",
       "      <td>148654.000000</td>\n",
       "      <td>148654.000000</td>\n",
       "      <td>0.0</td>\n",
       "      <td>0.0</td>\n",
       "    </tr>\n",
       "    <tr>\n",
       "      <th>mean</th>\n",
       "      <td>74327.500000</td>\n",
       "      <td>66325.448840</td>\n",
       "      <td>5066.059886</td>\n",
       "      <td>3648.767297</td>\n",
       "      <td>25007.893151</td>\n",
       "      <td>74768.321972</td>\n",
       "      <td>93692.554811</td>\n",
       "      <td>2012.522643</td>\n",
       "      <td>NaN</td>\n",
       "      <td>NaN</td>\n",
       "    </tr>\n",
       "    <tr>\n",
       "      <th>std</th>\n",
       "      <td>42912.857795</td>\n",
       "      <td>42764.635495</td>\n",
       "      <td>11454.380559</td>\n",
       "      <td>8056.601866</td>\n",
       "      <td>15402.215858</td>\n",
       "      <td>50517.005274</td>\n",
       "      <td>62793.533483</td>\n",
       "      <td>1.117538</td>\n",
       "      <td>NaN</td>\n",
       "      <td>NaN</td>\n",
       "    </tr>\n",
       "    <tr>\n",
       "      <th>min</th>\n",
       "      <td>1.000000</td>\n",
       "      <td>-166.010000</td>\n",
       "      <td>-0.010000</td>\n",
       "      <td>-7058.590000</td>\n",
       "      <td>-33.890000</td>\n",
       "      <td>-618.130000</td>\n",
       "      <td>-618.130000</td>\n",
       "      <td>2011.000000</td>\n",
       "      <td>NaN</td>\n",
       "      <td>NaN</td>\n",
       "    </tr>\n",
       "    <tr>\n",
       "      <th>25%</th>\n",
       "      <td>37164.250000</td>\n",
       "      <td>33588.200000</td>\n",
       "      <td>0.000000</td>\n",
       "      <td>0.000000</td>\n",
       "      <td>11535.395000</td>\n",
       "      <td>36168.995000</td>\n",
       "      <td>44065.650000</td>\n",
       "      <td>2012.000000</td>\n",
       "      <td>NaN</td>\n",
       "      <td>NaN</td>\n",
       "    </tr>\n",
       "    <tr>\n",
       "      <th>50%</th>\n",
       "      <td>74327.500000</td>\n",
       "      <td>65007.450000</td>\n",
       "      <td>0.000000</td>\n",
       "      <td>811.270000</td>\n",
       "      <td>28628.620000</td>\n",
       "      <td>71426.610000</td>\n",
       "      <td>92404.090000</td>\n",
       "      <td>2013.000000</td>\n",
       "      <td>NaN</td>\n",
       "      <td>NaN</td>\n",
       "    </tr>\n",
       "    <tr>\n",
       "      <th>75%</th>\n",
       "      <td>111490.750000</td>\n",
       "      <td>94691.050000</td>\n",
       "      <td>4658.175000</td>\n",
       "      <td>4236.065000</td>\n",
       "      <td>35566.855000</td>\n",
       "      <td>105839.135000</td>\n",
       "      <td>132876.450000</td>\n",
       "      <td>2014.000000</td>\n",
       "      <td>NaN</td>\n",
       "      <td>NaN</td>\n",
       "    </tr>\n",
       "    <tr>\n",
       "      <th>max</th>\n",
       "      <td>148654.000000</td>\n",
       "      <td>319275.010000</td>\n",
       "      <td>245131.880000</td>\n",
       "      <td>400184.250000</td>\n",
       "      <td>96570.660000</td>\n",
       "      <td>567595.430000</td>\n",
       "      <td>567595.430000</td>\n",
       "      <td>2014.000000</td>\n",
       "      <td>NaN</td>\n",
       "      <td>NaN</td>\n",
       "    </tr>\n",
       "  </tbody>\n",
       "</table>\n",
       "</div>"
      ],
      "text/plain": [
       "                  Id        BasePay    OvertimePay       OtherPay  \\\n",
       "count  148654.000000  148045.000000  148650.000000  148650.000000   \n",
       "mean    74327.500000   66325.448840    5066.059886    3648.767297   \n",
       "std     42912.857795   42764.635495   11454.380559    8056.601866   \n",
       "min         1.000000    -166.010000      -0.010000   -7058.590000   \n",
       "25%     37164.250000   33588.200000       0.000000       0.000000   \n",
       "50%     74327.500000   65007.450000       0.000000     811.270000   \n",
       "75%    111490.750000   94691.050000    4658.175000    4236.065000   \n",
       "max    148654.000000  319275.010000  245131.880000  400184.250000   \n",
       "\n",
       "            Benefits       TotalPay  TotalPayBenefits           Year  Notes  \\\n",
       "count  112491.000000  148654.000000     148654.000000  148654.000000    0.0   \n",
       "mean    25007.893151   74768.321972      93692.554811    2012.522643    NaN   \n",
       "std     15402.215858   50517.005274      62793.533483       1.117538    NaN   \n",
       "min       -33.890000    -618.130000       -618.130000    2011.000000    NaN   \n",
       "25%     11535.395000   36168.995000      44065.650000    2012.000000    NaN   \n",
       "50%     28628.620000   71426.610000      92404.090000    2013.000000    NaN   \n",
       "75%     35566.855000  105839.135000     132876.450000    2014.000000    NaN   \n",
       "max     96570.660000  567595.430000     567595.430000    2014.000000    NaN   \n",
       "\n",
       "       Status  \n",
       "count     0.0  \n",
       "mean      NaN  \n",
       "std       NaN  \n",
       "min       NaN  \n",
       "25%       NaN  \n",
       "50%       NaN  \n",
       "75%       NaN  \n",
       "max       NaN  "
      ]
     },
     "execution_count": 7,
     "metadata": {},
     "output_type": "execute_result"
    }
   ],
   "source": [
    "# LET US GET SOME DESCRIPTIVE MEASUREMENTS  \n",
    "\n",
    "df.describe()\n",
    "\n"
   ]
  },
  {
   "cell_type": "markdown",
   "metadata": {
    "id": "rBE56F8qb8yv"
   },
   "source": [
    "Desired Output:\n",
    "\n",
    "![image.png](https://i.ibb.co/ftMP67H/assignmnet1c.png)"
   ]
  },
  {
   "cell_type": "markdown",
   "metadata": {
    "id": "vIWqIPCdAd_R"
   },
   "source": [
    "### How many different year values are there?"
   ]
  },
  {
   "cell_type": "code",
   "execution_count": 8,
   "metadata": {
    "colab": {
     "base_uri": "https://localhost:8080/"
    },
    "executionInfo": {
     "elapsed": 336,
     "status": "ok",
     "timestamp": 1659618625135,
     "user": {
      "displayName": "Yunus Koyun",
      "userId": "00144374272071843442"
     },
     "user_tz": -180
    },
    "id": "HIsGYohCb8yv",
    "outputId": "84b02ed5-4d0d-4359-9c2b-2f43902ed06b"
   },
   "outputs": [
    {
     "data": {
      "text/plain": [
       "2014    38123\n",
       "2013    37606\n",
       "2012    36766\n",
       "2011    36159\n",
       "Name: Year, dtype: int64"
      ]
     },
     "execution_count": 8,
     "metadata": {},
     "output_type": "execute_result"
    }
   ],
   "source": [
    "df.Year.value_counts()\n"
   ]
  },
  {
   "cell_type": "raw",
   "metadata": {
    "id": "ePHHnsygb8yv"
   },
   "source": [
    "Desired Output:\n",
    "\n",
    "2014    38123\n",
    "2013    37606\n",
    "2012    36766\n",
    "2011    36159\n",
    "Name: Year, dtype: int64"
   ]
  },
  {
   "cell_type": "code",
   "execution_count": 9,
   "metadata": {
    "colab": {
     "base_uri": "https://localhost:8080/"
    },
    "executionInfo": {
     "elapsed": 405,
     "status": "ok",
     "timestamp": 1659618750686,
     "user": {
      "displayName": "Yunus Koyun",
      "userId": "00144374272071843442"
     },
     "user_tz": -180
    },
    "id": "_QXgY1bWAd_S",
    "outputId": "d7225961-260e-4aea-a4c4-4d9f1408f2b6"
   },
   "outputs": [
    {
     "data": {
      "text/plain": [
       "4"
      ]
     },
     "execution_count": 9,
     "metadata": {},
     "output_type": "execute_result"
    }
   ],
   "source": [
    "# LET US FIND THE NUMBER OF UNIQUE VALUES IN THE COLUMN OF \"Year\"\n",
    "\n",
    "len(df.Year.unique())\n",
    "\n"
   ]
  },
  {
   "cell_type": "raw",
   "metadata": {
    "id": "jYGqWRjGb8yv"
   },
   "source": [
    "Desired Output:\n",
    "\n",
    "4"
   ]
  },
  {
   "cell_type": "code",
   "execution_count": 10,
   "metadata": {
    "colab": {
     "base_uri": "https://localhost:8080/"
    },
    "executionInfo": {
     "elapsed": 305,
     "status": "ok",
     "timestamp": 1659618769809,
     "user": {
      "displayName": "Yunus Koyun",
      "userId": "00144374272071843442"
     },
     "user_tz": -180
    },
    "id": "mS0x3_6Vb8yw",
    "outputId": "6b59f286-6641-43b5-b9e9-b7dbc25cbf3d"
   },
   "outputs": [
    {
     "data": {
      "text/plain": [
       "array([2011, 2012, 2013, 2014], dtype=int64)"
      ]
     },
     "execution_count": 10,
     "metadata": {},
     "output_type": "execute_result"
    }
   ],
   "source": [
    "# LET US FIND THE UNIQUE VALUES IN THE COLUMN OF \"Year\"\n",
    "\n",
    "df.Year.unique()\n",
    "\n"
   ]
  },
  {
   "cell_type": "raw",
   "metadata": {
    "id": "JIyBPtcTb8yw"
   },
   "source": [
    "Desired Output:\n",
    "\n",
    "array([2011, 2012, 2013, 2014], dtype=int64)"
   ]
  },
  {
   "cell_type": "markdown",
   "metadata": {
    "id": "3KfOM05LAd_S"
   },
   "source": [
    "### Print out max and avg values in the column of \"Totalpay\"."
   ]
  },
  {
   "cell_type": "code",
   "execution_count": 11,
   "metadata": {
    "colab": {
     "base_uri": "https://localhost:8080/"
    },
    "executionInfo": {
     "elapsed": 279,
     "status": "ok",
     "timestamp": 1659619135227,
     "user": {
      "displayName": "Yunus Koyun",
      "userId": "00144374272071843442"
     },
     "user_tz": -180
    },
    "id": "gZM_k1oGAd_S",
    "outputId": "b4b1eebe-c6a7-4e2c-cad0-573f19559390"
   },
   "outputs": [
    {
     "data": {
      "text/plain": [
       "567595.43"
      ]
     },
     "execution_count": 11,
     "metadata": {},
     "output_type": "execute_result"
    }
   ],
   "source": [
    "# LET US FIND THE MAXIMUM TOTALPAY\n",
    "\n",
    "df[\"TotalPay\"].max()\n",
    "\n"
   ]
  },
  {
   "cell_type": "raw",
   "metadata": {
    "id": "PsCJlOQFb8yx"
   },
   "source": [
    "Desired Output:\n",
    "\n",
    "567595.43"
   ]
  },
  {
   "cell_type": "code",
   "execution_count": 91,
   "metadata": {
    "colab": {
     "base_uri": "https://localhost:8080/"
    },
    "executionInfo": {
     "elapsed": 294,
     "status": "ok",
     "timestamp": 1659619165691,
     "user": {
      "displayName": "Yunus Koyun",
      "userId": "00144374272071843442"
     },
     "user_tz": -180
    },
    "id": "5QVwTgbKAd_S",
    "outputId": "9835b20d-62dc-4520-80d9-e040df5c02b7"
   },
   "outputs": [
    {
     "data": {
      "text/plain": [
       "74768.32197169267"
      ]
     },
     "execution_count": 91,
     "metadata": {},
     "output_type": "execute_result"
    }
   ],
   "source": [
    "# LET US FIND THE AVERAGE TOTALPAY\n",
    "\n",
    "tp_mean = df[\"TotalPay\"].mean()\n",
    "tp_mean\n"
   ]
  },
  {
   "cell_type": "raw",
   "metadata": {
    "id": "eBBj4F7lb8yx"
   },
   "source": [
    "Desired Output:\n",
    "\n",
    "74768.321971703"
   ]
  },
  {
   "cell_type": "markdown",
   "metadata": {
    "id": "PBH4LugjAd_T"
   },
   "source": [
    "### How many records in the TotalPay column are there bigger than avg TotalPay?"
   ]
  },
  {
   "cell_type": "code",
   "execution_count": 6,
   "metadata": {
    "id": "NFtd41imb8yy"
   },
   "outputs": [
    {
     "data": {
      "text/html": [
       "<div>\n",
       "<style scoped>\n",
       "    .dataframe tbody tr th:only-of-type {\n",
       "        vertical-align: middle;\n",
       "    }\n",
       "\n",
       "    .dataframe tbody tr th {\n",
       "        vertical-align: top;\n",
       "    }\n",
       "\n",
       "    .dataframe thead th {\n",
       "        text-align: right;\n",
       "    }\n",
       "</style>\n",
       "<table border=\"1\" class=\"dataframe\">\n",
       "  <thead>\n",
       "    <tr style=\"text-align: right;\">\n",
       "      <th></th>\n",
       "      <th>Id</th>\n",
       "      <th>EmployeeName</th>\n",
       "      <th>JobTitle</th>\n",
       "      <th>BasePay</th>\n",
       "      <th>OvertimePay</th>\n",
       "      <th>OtherPay</th>\n",
       "      <th>Benefits</th>\n",
       "      <th>TotalPay</th>\n",
       "      <th>TotalPayBenefits</th>\n",
       "      <th>Year</th>\n",
       "      <th>Notes</th>\n",
       "      <th>Agency</th>\n",
       "      <th>Status</th>\n",
       "    </tr>\n",
       "  </thead>\n",
       "  <tbody>\n",
       "    <tr>\n",
       "      <th>0</th>\n",
       "      <td>1</td>\n",
       "      <td>NATHANIEL FORD</td>\n",
       "      <td>GENERAL MANAGER-METROPOLITAN TRANSIT AUTHORITY</td>\n",
       "      <td>167411.18</td>\n",
       "      <td>0.00</td>\n",
       "      <td>400184.25</td>\n",
       "      <td>NaN</td>\n",
       "      <td>567595.43</td>\n",
       "      <td>567595.43</td>\n",
       "      <td>2011</td>\n",
       "      <td>NaN</td>\n",
       "      <td>San Francisco</td>\n",
       "      <td>NaN</td>\n",
       "    </tr>\n",
       "    <tr>\n",
       "      <th>1</th>\n",
       "      <td>2</td>\n",
       "      <td>GARY JIMENEZ</td>\n",
       "      <td>CAPTAIN III (POLICE DEPARTMENT)</td>\n",
       "      <td>155966.02</td>\n",
       "      <td>245131.88</td>\n",
       "      <td>137811.38</td>\n",
       "      <td>NaN</td>\n",
       "      <td>538909.28</td>\n",
       "      <td>538909.28</td>\n",
       "      <td>2011</td>\n",
       "      <td>NaN</td>\n",
       "      <td>San Francisco</td>\n",
       "      <td>NaN</td>\n",
       "    </tr>\n",
       "    <tr>\n",
       "      <th>2</th>\n",
       "      <td>3</td>\n",
       "      <td>ALBERT PARDINI</td>\n",
       "      <td>CAPTAIN III (POLICE DEPARTMENT)</td>\n",
       "      <td>212739.13</td>\n",
       "      <td>106088.18</td>\n",
       "      <td>16452.60</td>\n",
       "      <td>NaN</td>\n",
       "      <td>335279.91</td>\n",
       "      <td>335279.91</td>\n",
       "      <td>2011</td>\n",
       "      <td>NaN</td>\n",
       "      <td>San Francisco</td>\n",
       "      <td>NaN</td>\n",
       "    </tr>\n",
       "    <tr>\n",
       "      <th>3</th>\n",
       "      <td>4</td>\n",
       "      <td>CHRISTOPHER CHONG</td>\n",
       "      <td>WIRE ROPE CABLE MAINTENANCE MECHANIC</td>\n",
       "      <td>77916.00</td>\n",
       "      <td>56120.71</td>\n",
       "      <td>198306.90</td>\n",
       "      <td>NaN</td>\n",
       "      <td>332343.61</td>\n",
       "      <td>332343.61</td>\n",
       "      <td>2011</td>\n",
       "      <td>NaN</td>\n",
       "      <td>San Francisco</td>\n",
       "      <td>NaN</td>\n",
       "    </tr>\n",
       "    <tr>\n",
       "      <th>4</th>\n",
       "      <td>5</td>\n",
       "      <td>PATRICK GARDNER</td>\n",
       "      <td>DEPUTY CHIEF OF DEPARTMENT,(FIRE DEPARTMENT)</td>\n",
       "      <td>134401.60</td>\n",
       "      <td>9737.00</td>\n",
       "      <td>182234.59</td>\n",
       "      <td>NaN</td>\n",
       "      <td>326373.19</td>\n",
       "      <td>326373.19</td>\n",
       "      <td>2011</td>\n",
       "      <td>NaN</td>\n",
       "      <td>San Francisco</td>\n",
       "      <td>NaN</td>\n",
       "    </tr>\n",
       "    <tr>\n",
       "      <th>...</th>\n",
       "      <td>...</td>\n",
       "      <td>...</td>\n",
       "      <td>...</td>\n",
       "      <td>...</td>\n",
       "      <td>...</td>\n",
       "      <td>...</td>\n",
       "      <td>...</td>\n",
       "      <td>...</td>\n",
       "      <td>...</td>\n",
       "      <td>...</td>\n",
       "      <td>...</td>\n",
       "      <td>...</td>\n",
       "      <td>...</td>\n",
       "    </tr>\n",
       "    <tr>\n",
       "      <th>135701</th>\n",
       "      <td>135702</td>\n",
       "      <td>Christina S Jee</td>\n",
       "      <td>Nurse Practitioner</td>\n",
       "      <td>70635.61</td>\n",
       "      <td>0.00</td>\n",
       "      <td>6550.41</td>\n",
       "      <td>771.88</td>\n",
       "      <td>77186.02</td>\n",
       "      <td>77957.90</td>\n",
       "      <td>2014</td>\n",
       "      <td>NaN</td>\n",
       "      <td>San Francisco</td>\n",
       "      <td>NaN</td>\n",
       "    </tr>\n",
       "    <tr>\n",
       "      <th>135778</th>\n",
       "      <td>135779</td>\n",
       "      <td>Mary Ann T Abille</td>\n",
       "      <td>Special Nurse</td>\n",
       "      <td>60889.34</td>\n",
       "      <td>6815.67</td>\n",
       "      <td>9041.21</td>\n",
       "      <td>767.47</td>\n",
       "      <td>76746.22</td>\n",
       "      <td>77513.69</td>\n",
       "      <td>2014</td>\n",
       "      <td>NaN</td>\n",
       "      <td>San Francisco</td>\n",
       "      <td>NaN</td>\n",
       "    </tr>\n",
       "    <tr>\n",
       "      <th>135847</th>\n",
       "      <td>135848</td>\n",
       "      <td>Emilda E Reinosa</td>\n",
       "      <td>Special Nurse</td>\n",
       "      <td>76305.74</td>\n",
       "      <td>0.00</td>\n",
       "      <td>0.00</td>\n",
       "      <td>763.08</td>\n",
       "      <td>76305.74</td>\n",
       "      <td>77068.82</td>\n",
       "      <td>2014</td>\n",
       "      <td>NaN</td>\n",
       "      <td>San Francisco</td>\n",
       "      <td>NaN</td>\n",
       "    </tr>\n",
       "    <tr>\n",
       "      <th>135853</th>\n",
       "      <td>135854</td>\n",
       "      <td>David G Evans</td>\n",
       "      <td>Special Nurse</td>\n",
       "      <td>71178.15</td>\n",
       "      <td>2748.15</td>\n",
       "      <td>2354.40</td>\n",
       "      <td>762.81</td>\n",
       "      <td>76280.70</td>\n",
       "      <td>77043.51</td>\n",
       "      <td>2014</td>\n",
       "      <td>NaN</td>\n",
       "      <td>San Francisco</td>\n",
       "      <td>NaN</td>\n",
       "    </tr>\n",
       "    <tr>\n",
       "      <th>136063</th>\n",
       "      <td>136064</td>\n",
       "      <td>Nicole Joe</td>\n",
       "      <td>Special Nurse</td>\n",
       "      <td>61276.59</td>\n",
       "      <td>8538.44</td>\n",
       "      <td>5078.67</td>\n",
       "      <td>748.95</td>\n",
       "      <td>74893.70</td>\n",
       "      <td>75642.65</td>\n",
       "      <td>2014</td>\n",
       "      <td>NaN</td>\n",
       "      <td>San Francisco</td>\n",
       "      <td>NaN</td>\n",
       "    </tr>\n",
       "  </tbody>\n",
       "</table>\n",
       "<p>69489 rows × 13 columns</p>\n",
       "</div>"
      ],
      "text/plain": [
       "            Id       EmployeeName  \\\n",
       "0            1     NATHANIEL FORD   \n",
       "1            2       GARY JIMENEZ   \n",
       "2            3     ALBERT PARDINI   \n",
       "3            4  CHRISTOPHER CHONG   \n",
       "4            5    PATRICK GARDNER   \n",
       "...        ...                ...   \n",
       "135701  135702    Christina S Jee   \n",
       "135778  135779  Mary Ann T Abille   \n",
       "135847  135848   Emilda E Reinosa   \n",
       "135853  135854      David G Evans   \n",
       "136063  136064         Nicole Joe   \n",
       "\n",
       "                                              JobTitle    BasePay  \\\n",
       "0       GENERAL MANAGER-METROPOLITAN TRANSIT AUTHORITY  167411.18   \n",
       "1                      CAPTAIN III (POLICE DEPARTMENT)  155966.02   \n",
       "2                      CAPTAIN III (POLICE DEPARTMENT)  212739.13   \n",
       "3                 WIRE ROPE CABLE MAINTENANCE MECHANIC   77916.00   \n",
       "4         DEPUTY CHIEF OF DEPARTMENT,(FIRE DEPARTMENT)  134401.60   \n",
       "...                                                ...        ...   \n",
       "135701                              Nurse Practitioner   70635.61   \n",
       "135778                                   Special Nurse   60889.34   \n",
       "135847                                   Special Nurse   76305.74   \n",
       "135853                                   Special Nurse   71178.15   \n",
       "136063                                   Special Nurse   61276.59   \n",
       "\n",
       "        OvertimePay   OtherPay  Benefits   TotalPay  TotalPayBenefits  Year  \\\n",
       "0              0.00  400184.25       NaN  567595.43         567595.43  2011   \n",
       "1         245131.88  137811.38       NaN  538909.28         538909.28  2011   \n",
       "2         106088.18   16452.60       NaN  335279.91         335279.91  2011   \n",
       "3          56120.71  198306.90       NaN  332343.61         332343.61  2011   \n",
       "4           9737.00  182234.59       NaN  326373.19         326373.19  2011   \n",
       "...             ...        ...       ...        ...               ...   ...   \n",
       "135701         0.00    6550.41    771.88   77186.02          77957.90  2014   \n",
       "135778      6815.67    9041.21    767.47   76746.22          77513.69  2014   \n",
       "135847         0.00       0.00    763.08   76305.74          77068.82  2014   \n",
       "135853      2748.15    2354.40    762.81   76280.70          77043.51  2014   \n",
       "136063      8538.44    5078.67    748.95   74893.70          75642.65  2014   \n",
       "\n",
       "        Notes         Agency  Status  \n",
       "0         NaN  San Francisco     NaN  \n",
       "1         NaN  San Francisco     NaN  \n",
       "2         NaN  San Francisco     NaN  \n",
       "3         NaN  San Francisco     NaN  \n",
       "4         NaN  San Francisco     NaN  \n",
       "...       ...            ...     ...  \n",
       "135701    NaN  San Francisco     NaN  \n",
       "135778    NaN  San Francisco     NaN  \n",
       "135847    NaN  San Francisco     NaN  \n",
       "135853    NaN  San Francisco     NaN  \n",
       "136063    NaN  San Francisco     NaN  \n",
       "\n",
       "[69489 rows x 13 columns]"
      ]
     },
     "execution_count": 6,
     "metadata": {},
     "output_type": "execute_result"
    }
   ],
   "source": [
    "df[df[\"TotalPay\"] > tp_mean]\n",
    "\n"
   ]
  },
  {
   "cell_type": "markdown",
   "metadata": {
    "id": "77qhPq1jb8yy"
   },
   "source": [
    "Desired Output:\n",
    "\n",
    "![image.png](https://i.ibb.co/nj84FbZ/assignment1d.png)"
   ]
  },
  {
   "cell_type": "code",
   "execution_count": 7,
   "metadata": {
    "id": "DzLK-P0zAd_T"
   },
   "outputs": [
    {
     "data": {
      "text/plain": [
       "69489"
      ]
     },
     "execution_count": 7,
     "metadata": {},
     "output_type": "execute_result"
    }
   ],
   "source": [
    "len(df[df[\"TotalPay\"] > tp_mean])\n",
    "\n"
   ]
  },
  {
   "cell_type": "raw",
   "metadata": {
    "id": "MzQcX4Ytb8yz"
   },
   "source": [
    "Desired Output:\n",
    "\n",
    "69489"
   ]
  },
  {
   "cell_type": "markdown",
   "metadata": {
    "id": "msGIAyWWAd_T"
   },
   "source": [
    "### How much does ALBERT PARDINI make money (including benefits)?"
   ]
  },
  {
   "cell_type": "code",
   "execution_count": 20,
   "metadata": {
    "id": "Lp85lU0cAd_T"
   },
   "outputs": [
    {
     "data": {
      "text/plain": [
       "2    335279.91\n",
       "Name: TotalPayBenefits, dtype: float64"
      ]
     },
     "execution_count": 20,
     "metadata": {},
     "output_type": "execute_result"
    }
   ],
   "source": [
    "df[df[\"EmployeeName\"] == \"ALBERT PARDINI\"][\"TotalPayBenefits\"]\n",
    "\n"
   ]
  },
  {
   "cell_type": "raw",
   "metadata": {
    "id": "RTB97OgEb8yz"
   },
   "source": [
    "Desired Output:\n",
    "\n",
    "2    335279.91\n",
    "Name: TotalPayBenefits, dtype: float64"
   ]
  },
  {
   "cell_type": "markdown",
   "metadata": {
    "id": "EhGLJuApAd_U"
   },
   "source": [
    "### Who is the lowest paid person?"
   ]
  },
  {
   "cell_type": "code",
   "execution_count": 25,
   "metadata": {
    "id": "9x8QkcP2Ad_U"
   },
   "outputs": [
    {
     "data": {
      "text/plain": [
       "148653    Joe Lopez\n",
       "Name: EmployeeName, dtype: object"
      ]
     },
     "execution_count": 25,
     "metadata": {},
     "output_type": "execute_result"
    }
   ],
   "source": [
    "df[df[\"TotalPayBenefits\"] == df[\"TotalPayBenefits\"].min()][\"EmployeeName\"]\n",
    "\n"
   ]
  },
  {
   "cell_type": "raw",
   "metadata": {
    "id": "CdvbSiDrb8y0"
   },
   "source": [
    "Desired Output:\n",
    "\n",
    "148653    Joe Lopez\n",
    "Name: EmployeeName, dtype: object"
   ]
  },
  {
   "cell_type": "markdown",
   "metadata": {
    "id": "KX1hSaoCAd_U"
   },
   "source": [
    "### What are the unique Jobs in dataset?"
   ]
  },
  {
   "cell_type": "code",
   "execution_count": 26,
   "metadata": {
    "id": "O97fqU91Ad_U"
   },
   "outputs": [
    {
     "data": {
      "text/plain": [
       "array(['GENERAL MANAGER-METROPOLITAN TRANSIT AUTHORITY',\n",
       "       'CAPTAIN III (POLICE DEPARTMENT)',\n",
       "       'WIRE ROPE CABLE MAINTENANCE MECHANIC', ..., 'Conversion',\n",
       "       'Cashier 3', 'Not provided'], dtype=object)"
      ]
     },
     "execution_count": 26,
     "metadata": {},
     "output_type": "execute_result"
    }
   ],
   "source": [
    "df[\"JobTitle\"].unique()\n"
   ]
  },
  {
   "cell_type": "raw",
   "metadata": {
    "id": "KMFKQLSNb8y0"
   },
   "source": [
    "Desired Output:\n",
    "\n",
    "array(['GENERAL MANAGER-METROPOLITAN TRANSIT AUTHORITY',\n",
    "       'CAPTAIN III (POLICE DEPARTMENT)',\n",
    "       'WIRE ROPE CABLE MAINTENANCE MECHANIC', ..., 'Conversion',\n",
    "       'Cashier 3', 'Not provided'], dtype=object)"
   ]
  },
  {
   "cell_type": "markdown",
   "metadata": {
    "id": "CsYDrYVDAd_V"
   },
   "source": [
    "### List the top 3 least common Jobs in the dataset."
   ]
  },
  {
   "cell_type": "code",
   "execution_count": 11,
   "metadata": {
    "id": "DsZuPQVeAd_V"
   },
   "outputs": [
    {
     "data": {
      "text/plain": [
       "COURT COMPUTER FACILITIES COORDINATOR             1\n",
       "AUTOMOTIVE BODY AND FENDER WORKER SUPERVISOR I    1\n",
       "VICTIM & WITNESS TECHNICIAN                       1\n",
       "Name: JobTitle, dtype: int64"
      ]
     },
     "execution_count": 11,
     "metadata": {},
     "output_type": "execute_result"
    }
   ],
   "source": [
    "df[\"JobTitle\"].value_counts().tail(3)\n",
    "\n"
   ]
  },
  {
   "cell_type": "raw",
   "metadata": {
    "id": "xUfh3E6Ob8y1"
   },
   "source": [
    "Desired Output:\n",
    "\n",
    "COURT COMPUTER FACILITIES COORDINATOR             1\n",
    "AUTOMOTIVE BODY AND FENDER WORKER SUPERVISOR I    1\n",
    "VICTIM & WITNESS TECHNICIAN                       1\n",
    "Name: JobTitle, dtype: int64"
   ]
  },
  {
   "cell_type": "markdown",
   "metadata": {
    "id": "6bY1SKD1Ad_V"
   },
   "source": [
    "### How many people earned more than avg in 2012?"
   ]
  },
  {
   "cell_type": "code",
   "execution_count": 99,
   "metadata": {
    "colab": {
     "base_uri": "https://localhost:8080/",
     "height": 130
    },
    "executionInfo": {
     "elapsed": 460,
     "status": "error",
     "timestamp": 1659624824856,
     "user": {
      "displayName": "Yunus Koyun",
      "userId": "00144374272071843442"
     },
     "user_tz": -180
    },
    "id": "W9yhfXieAd_W",
    "outputId": "c4de62f6-c5ae-4012-ba68-d2dfaea891a4"
   },
   "outputs": [
    {
     "data": {
      "text/plain": [
       "20366"
      ]
     },
     "execution_count": 99,
     "metadata": {},
     "output_type": "execute_result"
    }
   ],
   "source": [
    "\n",
    "len(df[(df[\"TotalPayBenefits\"] > df[\"TotalPayBenefits\"].mean()) & (df[\"Year\"] == 2012)])\n",
    "\n"
   ]
  },
  {
   "cell_type": "raw",
   "metadata": {
    "id": "1v3np6CCb8y1"
   },
   "source": [
    "Desired Output:\n",
    "\n",
    "20366"
   ]
  },
  {
   "cell_type": "markdown",
   "metadata": {
    "id": "EM6JCaT-Ad_W"
   },
   "source": [
    "### How many people have a title of Manager in their jobs?"
   ]
  },
  {
   "cell_type": "code",
   "execution_count": 105,
   "metadata": {
    "colab": {
     "base_uri": "https://localhost:8080/"
    },
    "executionInfo": {
     "elapsed": 1861,
     "status": "ok",
     "timestamp": 1659624626562,
     "user": {
      "displayName": "Yunus Koyun",
      "userId": "00144374272071843442"
     },
     "user_tz": -180
    },
    "id": "RjCxcXEWAd_Y",
    "outputId": "1b2b580d-80a9-4f67-b0b2-853a94ea9afe"
   },
   "outputs": [
    {
     "data": {
      "text/plain": [
       "4110"
      ]
     },
     "execution_count": 105,
     "metadata": {},
     "output_type": "execute_result"
    }
   ],
   "source": [
    "# USE APPLY FUNCTION\n",
    "\n",
    "def find_man(job_title):    \n",
    "    return 'manager' in job_title.lower()\n",
    "  \n",
    "\n",
    "\n",
    "df['JobTitle'].apply(lambda x: find_man(x)).sum()"
   ]
  },
  {
   "cell_type": "raw",
   "metadata": {
    "id": "NjiGMoflb8y2"
   },
   "source": [
    "Desired Output:\n",
    "\n",
    "4110"
   ]
  },
  {
   "cell_type": "markdown",
   "metadata": {
    "id": "UsSkiFyVAd_Y"
   },
   "source": [
    "### Take Id, EmployeeName, JobTitle, TotalPay and TotalPayBenefits columns with iloc and assign them as sal_new dataframe."
   ]
  },
  {
   "cell_type": "code",
   "execution_count": 147,
   "metadata": {
    "id": "31MPBM2UAd_Y"
   },
   "outputs": [
    {
     "data": {
      "text/html": [
       "<div>\n",
       "<style scoped>\n",
       "    .dataframe tbody tr th:only-of-type {\n",
       "        vertical-align: middle;\n",
       "    }\n",
       "\n",
       "    .dataframe tbody tr th {\n",
       "        vertical-align: top;\n",
       "    }\n",
       "\n",
       "    .dataframe thead th {\n",
       "        text-align: right;\n",
       "    }\n",
       "</style>\n",
       "<table border=\"1\" class=\"dataframe\">\n",
       "  <thead>\n",
       "    <tr style=\"text-align: right;\">\n",
       "      <th></th>\n",
       "      <th>Id</th>\n",
       "      <th>EmployeeName</th>\n",
       "      <th>JobTitle</th>\n",
       "      <th>TotalPay</th>\n",
       "      <th>TotalPayBenefits</th>\n",
       "    </tr>\n",
       "  </thead>\n",
       "  <tbody>\n",
       "    <tr>\n",
       "      <th>0</th>\n",
       "      <td>1</td>\n",
       "      <td>NATHANIEL FORD</td>\n",
       "      <td>GENERAL MANAGER-METROPOLITAN TRANSIT AUTHORITY</td>\n",
       "      <td>567595.43</td>\n",
       "      <td>567595.43</td>\n",
       "    </tr>\n",
       "    <tr>\n",
       "      <th>1</th>\n",
       "      <td>2</td>\n",
       "      <td>GARY JIMENEZ</td>\n",
       "      <td>CAPTAIN III (POLICE DEPARTMENT)</td>\n",
       "      <td>538909.28</td>\n",
       "      <td>538909.28</td>\n",
       "    </tr>\n",
       "    <tr>\n",
       "      <th>2</th>\n",
       "      <td>3</td>\n",
       "      <td>ALBERT PARDINI</td>\n",
       "      <td>CAPTAIN III (POLICE DEPARTMENT)</td>\n",
       "      <td>335279.91</td>\n",
       "      <td>335279.91</td>\n",
       "    </tr>\n",
       "    <tr>\n",
       "      <th>3</th>\n",
       "      <td>4</td>\n",
       "      <td>CHRISTOPHER CHONG</td>\n",
       "      <td>WIRE ROPE CABLE MAINTENANCE MECHANIC</td>\n",
       "      <td>332343.61</td>\n",
       "      <td>332343.61</td>\n",
       "    </tr>\n",
       "    <tr>\n",
       "      <th>4</th>\n",
       "      <td>5</td>\n",
       "      <td>PATRICK GARDNER</td>\n",
       "      <td>DEPUTY CHIEF OF DEPARTMENT,(FIRE DEPARTMENT)</td>\n",
       "      <td>326373.19</td>\n",
       "      <td>326373.19</td>\n",
       "    </tr>\n",
       "    <tr>\n",
       "      <th>...</th>\n",
       "      <td>...</td>\n",
       "      <td>...</td>\n",
       "      <td>...</td>\n",
       "      <td>...</td>\n",
       "      <td>...</td>\n",
       "    </tr>\n",
       "    <tr>\n",
       "      <th>148649</th>\n",
       "      <td>148650</td>\n",
       "      <td>Roy I Tillery</td>\n",
       "      <td>Custodian</td>\n",
       "      <td>0.00</td>\n",
       "      <td>0.00</td>\n",
       "    </tr>\n",
       "    <tr>\n",
       "      <th>148650</th>\n",
       "      <td>148651</td>\n",
       "      <td>Not provided</td>\n",
       "      <td>Not provided</td>\n",
       "      <td>0.00</td>\n",
       "      <td>0.00</td>\n",
       "    </tr>\n",
       "    <tr>\n",
       "      <th>148651</th>\n",
       "      <td>148652</td>\n",
       "      <td>Not provided</td>\n",
       "      <td>Not provided</td>\n",
       "      <td>0.00</td>\n",
       "      <td>0.00</td>\n",
       "    </tr>\n",
       "    <tr>\n",
       "      <th>148652</th>\n",
       "      <td>148653</td>\n",
       "      <td>Not provided</td>\n",
       "      <td>Not provided</td>\n",
       "      <td>0.00</td>\n",
       "      <td>0.00</td>\n",
       "    </tr>\n",
       "    <tr>\n",
       "      <th>148653</th>\n",
       "      <td>148654</td>\n",
       "      <td>Joe Lopez</td>\n",
       "      <td>Counselor, Log Cabin Ranch</td>\n",
       "      <td>-618.13</td>\n",
       "      <td>-618.13</td>\n",
       "    </tr>\n",
       "  </tbody>\n",
       "</table>\n",
       "<p>148654 rows × 5 columns</p>\n",
       "</div>"
      ],
      "text/plain": [
       "            Id       EmployeeName  \\\n",
       "0            1     NATHANIEL FORD   \n",
       "1            2       GARY JIMENEZ   \n",
       "2            3     ALBERT PARDINI   \n",
       "3            4  CHRISTOPHER CHONG   \n",
       "4            5    PATRICK GARDNER   \n",
       "...        ...                ...   \n",
       "148649  148650      Roy I Tillery   \n",
       "148650  148651       Not provided   \n",
       "148651  148652       Not provided   \n",
       "148652  148653       Not provided   \n",
       "148653  148654          Joe Lopez   \n",
       "\n",
       "                                              JobTitle   TotalPay  \\\n",
       "0       GENERAL MANAGER-METROPOLITAN TRANSIT AUTHORITY  567595.43   \n",
       "1                      CAPTAIN III (POLICE DEPARTMENT)  538909.28   \n",
       "2                      CAPTAIN III (POLICE DEPARTMENT)  335279.91   \n",
       "3                 WIRE ROPE CABLE MAINTENANCE MECHANIC  332343.61   \n",
       "4         DEPUTY CHIEF OF DEPARTMENT,(FIRE DEPARTMENT)  326373.19   \n",
       "...                                                ...        ...   \n",
       "148649                                       Custodian       0.00   \n",
       "148650                                    Not provided       0.00   \n",
       "148651                                    Not provided       0.00   \n",
       "148652                                    Not provided       0.00   \n",
       "148653                      Counselor, Log Cabin Ranch    -618.13   \n",
       "\n",
       "        TotalPayBenefits  \n",
       "0              567595.43  \n",
       "1              538909.28  \n",
       "2              335279.91  \n",
       "3              332343.61  \n",
       "4              326373.19  \n",
       "...                  ...  \n",
       "148649              0.00  \n",
       "148650              0.00  \n",
       "148651              0.00  \n",
       "148652              0.00  \n",
       "148653           -618.13  \n",
       "\n",
       "[148654 rows x 5 columns]"
      ]
     },
     "execution_count": 147,
     "metadata": {},
     "output_type": "execute_result"
    }
   ],
   "source": [
    "sal_new = df.iloc[:, [0,1,2,7,8]]\n",
    "sal_new\n"
   ]
  },
  {
   "cell_type": "markdown",
   "metadata": {
    "id": "MenmWy3nb8y3"
   },
   "source": [
    "Desired Output:\n",
    "\n",
    "![image.png](https://i.ibb.co/ZgFCbPm/assignment1e.png)"
   ]
  },
  {
   "cell_type": "markdown",
   "metadata": {
    "id": "IDfaMS0OAd_Z"
   },
   "source": [
    "### Take the columns betweeen EmployeeName and TotalPayBenefits with loc and assign them as sal_new df."
   ]
  },
  {
   "cell_type": "code",
   "execution_count": 158,
   "metadata": {
    "id": "iXoiBJ8tAd_Z"
   },
   "outputs": [
    {
     "data": {
      "text/html": [
       "<div>\n",
       "<style scoped>\n",
       "    .dataframe tbody tr th:only-of-type {\n",
       "        vertical-align: middle;\n",
       "    }\n",
       "\n",
       "    .dataframe tbody tr th {\n",
       "        vertical-align: top;\n",
       "    }\n",
       "\n",
       "    .dataframe thead th {\n",
       "        text-align: right;\n",
       "    }\n",
       "</style>\n",
       "<table border=\"1\" class=\"dataframe\">\n",
       "  <thead>\n",
       "    <tr style=\"text-align: right;\">\n",
       "      <th></th>\n",
       "      <th>EmployeeName</th>\n",
       "      <th>JobTitle</th>\n",
       "      <th>TotalPay</th>\n",
       "      <th>TotalPayBenefits</th>\n",
       "    </tr>\n",
       "  </thead>\n",
       "  <tbody>\n",
       "    <tr>\n",
       "      <th>0</th>\n",
       "      <td>NATHANIEL FORD</td>\n",
       "      <td>GENERAL MANAGER-METROPOLITAN TRANSIT AUTHORITY</td>\n",
       "      <td>567595.43</td>\n",
       "      <td>567595.43</td>\n",
       "    </tr>\n",
       "    <tr>\n",
       "      <th>1</th>\n",
       "      <td>GARY JIMENEZ</td>\n",
       "      <td>CAPTAIN III (POLICE DEPARTMENT)</td>\n",
       "      <td>538909.28</td>\n",
       "      <td>538909.28</td>\n",
       "    </tr>\n",
       "    <tr>\n",
       "      <th>2</th>\n",
       "      <td>ALBERT PARDINI</td>\n",
       "      <td>CAPTAIN III (POLICE DEPARTMENT)</td>\n",
       "      <td>335279.91</td>\n",
       "      <td>335279.91</td>\n",
       "    </tr>\n",
       "    <tr>\n",
       "      <th>3</th>\n",
       "      <td>CHRISTOPHER CHONG</td>\n",
       "      <td>WIRE ROPE CABLE MAINTENANCE MECHANIC</td>\n",
       "      <td>332343.61</td>\n",
       "      <td>332343.61</td>\n",
       "    </tr>\n",
       "    <tr>\n",
       "      <th>4</th>\n",
       "      <td>PATRICK GARDNER</td>\n",
       "      <td>DEPUTY CHIEF OF DEPARTMENT,(FIRE DEPARTMENT)</td>\n",
       "      <td>326373.19</td>\n",
       "      <td>326373.19</td>\n",
       "    </tr>\n",
       "    <tr>\n",
       "      <th>...</th>\n",
       "      <td>...</td>\n",
       "      <td>...</td>\n",
       "      <td>...</td>\n",
       "      <td>...</td>\n",
       "    </tr>\n",
       "    <tr>\n",
       "      <th>148649</th>\n",
       "      <td>Roy I Tillery</td>\n",
       "      <td>Custodian</td>\n",
       "      <td>0.00</td>\n",
       "      <td>0.00</td>\n",
       "    </tr>\n",
       "    <tr>\n",
       "      <th>148650</th>\n",
       "      <td>Not provided</td>\n",
       "      <td>Not provided</td>\n",
       "      <td>0.00</td>\n",
       "      <td>0.00</td>\n",
       "    </tr>\n",
       "    <tr>\n",
       "      <th>148651</th>\n",
       "      <td>Not provided</td>\n",
       "      <td>Not provided</td>\n",
       "      <td>0.00</td>\n",
       "      <td>0.00</td>\n",
       "    </tr>\n",
       "    <tr>\n",
       "      <th>148652</th>\n",
       "      <td>Not provided</td>\n",
       "      <td>Not provided</td>\n",
       "      <td>0.00</td>\n",
       "      <td>0.00</td>\n",
       "    </tr>\n",
       "    <tr>\n",
       "      <th>148653</th>\n",
       "      <td>Joe Lopez</td>\n",
       "      <td>Counselor, Log Cabin Ranch</td>\n",
       "      <td>-618.13</td>\n",
       "      <td>-618.13</td>\n",
       "    </tr>\n",
       "  </tbody>\n",
       "</table>\n",
       "<p>148654 rows × 4 columns</p>\n",
       "</div>"
      ],
      "text/plain": [
       "             EmployeeName                                        JobTitle  \\\n",
       "0          NATHANIEL FORD  GENERAL MANAGER-METROPOLITAN TRANSIT AUTHORITY   \n",
       "1            GARY JIMENEZ                 CAPTAIN III (POLICE DEPARTMENT)   \n",
       "2          ALBERT PARDINI                 CAPTAIN III (POLICE DEPARTMENT)   \n",
       "3       CHRISTOPHER CHONG            WIRE ROPE CABLE MAINTENANCE MECHANIC   \n",
       "4         PATRICK GARDNER    DEPUTY CHIEF OF DEPARTMENT,(FIRE DEPARTMENT)   \n",
       "...                   ...                                             ...   \n",
       "148649      Roy I Tillery                                       Custodian   \n",
       "148650       Not provided                                    Not provided   \n",
       "148651       Not provided                                    Not provided   \n",
       "148652       Not provided                                    Not provided   \n",
       "148653          Joe Lopez                      Counselor, Log Cabin Ranch   \n",
       "\n",
       "         TotalPay  TotalPayBenefits  \n",
       "0       567595.43         567595.43  \n",
       "1       538909.28         538909.28  \n",
       "2       335279.91         335279.91  \n",
       "3       332343.61         332343.61  \n",
       "4       326373.19         326373.19  \n",
       "...           ...               ...  \n",
       "148649       0.00              0.00  \n",
       "148650       0.00              0.00  \n",
       "148651       0.00              0.00  \n",
       "148652       0.00              0.00  \n",
       "148653    -618.13           -618.13  \n",
       "\n",
       "[148654 rows x 4 columns]"
      ]
     },
     "execution_count": 158,
     "metadata": {},
     "output_type": "execute_result"
    }
   ],
   "source": [
    "sal_new.loc[:, \"EmployeeName\":\"TotalPayBenefits\"]\n"
   ]
  },
  {
   "cell_type": "markdown",
   "metadata": {
    "id": "PPsifiRpb8y4"
   },
   "source": [
    "Desired Output:\n",
    "\n",
    "![image.png](https://i.ibb.co/s2CYS7H/assignment1f.png)"
   ]
  },
  {
   "cell_type": "markdown",
   "metadata": {
    "id": "GLNh6jmxAd_a"
   },
   "source": [
    "### Print out the names of the employees who earn more than min but less than avg."
   ]
  },
  {
   "cell_type": "code",
   "execution_count": 196,
   "metadata": {
    "id": "2lk1ZwS9Ad_a"
   },
   "outputs": [
    {
     "data": {
      "text/html": [
       "<div>\n",
       "<style scoped>\n",
       "    .dataframe tbody tr th:only-of-type {\n",
       "        vertical-align: middle;\n",
       "    }\n",
       "\n",
       "    .dataframe tbody tr th {\n",
       "        vertical-align: top;\n",
       "    }\n",
       "\n",
       "    .dataframe thead th {\n",
       "        text-align: right;\n",
       "    }\n",
       "</style>\n",
       "<table border=\"1\" class=\"dataframe\">\n",
       "  <thead>\n",
       "    <tr style=\"text-align: right;\">\n",
       "      <th></th>\n",
       "      <th>EmployeeName</th>\n",
       "      <th>TotalPayBenefits</th>\n",
       "    </tr>\n",
       "  </thead>\n",
       "  <tbody>\n",
       "    <tr>\n",
       "      <th>10806</th>\n",
       "      <td>KWE LEE</td>\n",
       "      <td>93691.15</td>\n",
       "    </tr>\n",
       "    <tr>\n",
       "      <th>10807</th>\n",
       "      <td>MIGUEL CARO JR</td>\n",
       "      <td>93682.74</td>\n",
       "    </tr>\n",
       "    <tr>\n",
       "      <th>10808</th>\n",
       "      <td>JOANNE MORRIS</td>\n",
       "      <td>93680.53</td>\n",
       "    </tr>\n",
       "    <tr>\n",
       "      <th>10809</th>\n",
       "      <td>LAYLA WELBORN</td>\n",
       "      <td>93676.88</td>\n",
       "    </tr>\n",
       "    <tr>\n",
       "      <th>10810</th>\n",
       "      <td>LE BANH</td>\n",
       "      <td>93675.39</td>\n",
       "    </tr>\n",
       "    <tr>\n",
       "      <th>...</th>\n",
       "      <td>...</td>\n",
       "      <td>...</td>\n",
       "    </tr>\n",
       "    <tr>\n",
       "      <th>148648</th>\n",
       "      <td>Leon Walker</td>\n",
       "      <td>0.00</td>\n",
       "    </tr>\n",
       "    <tr>\n",
       "      <th>148649</th>\n",
       "      <td>Roy I Tillery</td>\n",
       "      <td>0.00</td>\n",
       "    </tr>\n",
       "    <tr>\n",
       "      <th>148650</th>\n",
       "      <td>Not provided</td>\n",
       "      <td>0.00</td>\n",
       "    </tr>\n",
       "    <tr>\n",
       "      <th>148651</th>\n",
       "      <td>Not provided</td>\n",
       "      <td>0.00</td>\n",
       "    </tr>\n",
       "    <tr>\n",
       "      <th>148652</th>\n",
       "      <td>Not provided</td>\n",
       "      <td>0.00</td>\n",
       "    </tr>\n",
       "  </tbody>\n",
       "</table>\n",
       "<p>75649 rows × 2 columns</p>\n",
       "</div>"
      ],
      "text/plain": [
       "          EmployeeName  TotalPayBenefits\n",
       "10806          KWE LEE          93691.15\n",
       "10807   MIGUEL CARO JR          93682.74\n",
       "10808    JOANNE MORRIS          93680.53\n",
       "10809    LAYLA WELBORN          93676.88\n",
       "10810          LE BANH          93675.39\n",
       "...                ...               ...\n",
       "148648     Leon Walker              0.00\n",
       "148649   Roy I Tillery              0.00\n",
       "148650    Not provided              0.00\n",
       "148651    Not provided              0.00\n",
       "148652    Not provided              0.00\n",
       "\n",
       "[75649 rows x 2 columns]"
      ]
     },
     "execution_count": 196,
     "metadata": {},
     "output_type": "execute_result"
    }
   ],
   "source": [
    "emp_pay = df[(df[\"TotalPayBenefits\"] > df[\"TotalPayBenefits\"].min()) & (df[\"TotalPayBenefits\"] < df[\"TotalPayBenefits\"].mean())]\n",
    "\n",
    "emp_pay.loc[:, [\"EmployeeName\", \"TotalPayBenefits\"]]"
   ]
  },
  {
   "cell_type": "markdown",
   "metadata": {
    "id": "PnsdZjnnAd_a"
   },
   "source": [
    "Desired Output:\n",
    "\n",
    "![image.png](https://i.ibb.co/mtNB2TX/assignment1g.png)"
   ]
  },
  {
   "cell_type": "markdown",
   "metadata": {
    "id": "G4juLAlZb8y5"
   },
   "source": [
    "<p style=\"text-align: center;\"><img src=\"https://docs.google.com/uc?id=1lY0Uj5R04yMY3-ZppPWxqCr5pvBLYPnV\" class=\"img-fluid\" \n",
    "alt=\"CLRSWY\"></p>\n",
    "\n",
    "## <p style=\"background-color:#FDFEFE; font-family:newtimeroman; color:#9d4f8c; font-size:100%; text-align:center; border-radius:10px 10px;\">WAY TO REINVENT YOURSELF</p>\n",
    "\n",
    "________"
   ]
  }
 ],
 "metadata": {
  "anaconda-cloud": {},
  "colab": {
   "collapsed_sections": [
    "PBH4LugjAd_T",
    "msGIAyWWAd_T",
    "EhGLJuApAd_U",
    "KX1hSaoCAd_U",
    "CsYDrYVDAd_V",
    "6bY1SKD1Ad_V",
    "EM6JCaT-Ad_W",
    "UsSkiFyVAd_Y",
    "IDfaMS0OAd_Z",
    "GLNh6jmxAd_a"
   ],
   "name": "Assignment_01_Student.ipynb",
   "provenance": []
  },
  "kernelspec": {
   "display_name": "Python 3 (ipykernel)",
   "language": "python",
   "name": "python3"
  },
  "language_info": {
   "codemirror_mode": {
    "name": "ipython",
    "version": 3
   },
   "file_extension": ".py",
   "mimetype": "text/x-python",
   "name": "python",
   "nbconvert_exporter": "python",
   "pygments_lexer": "ipython3",
   "version": "3.10.4"
  },
  "toc": {
   "base_numbering": 1,
   "nav_menu": {},
   "number_sections": false,
   "sideBar": true,
   "skip_h1_title": false,
   "title_cell": "Table of Contents",
   "title_sidebar": "Contents",
   "toc_cell": false,
   "toc_position": {},
   "toc_section_display": true,
   "toc_window_display": false
  }
 },
 "nbformat": 4,
 "nbformat_minor": 1
}
